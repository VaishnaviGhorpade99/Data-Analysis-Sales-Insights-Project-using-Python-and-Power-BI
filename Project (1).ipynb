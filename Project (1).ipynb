{
 "cells": [
  {
   "cell_type": "code",
   "execution_count": 14,
   "id": "b34d1c99-e843-4919-becc-2a2931c49846",
   "metadata": {},
   "outputs": [],
   "source": [
    "import numpy as np\n",
    "import pandas as pd\n",
    "import matplotlib.pyplot as plt\n",
    "import seaborn as sns\n",
    "%matplotlib inline"
   ]
  },
  {
   "cell_type": "markdown",
   "id": "dc761cab-8241-426e-a53e-2d502d22b70f",
   "metadata": {},
   "source": [
    "pd.options.display.float_format = \"{:.2f}\".format"
   ]
  },
  {
   "cell_type": "markdown",
   "id": "ad6c4289-5e1c-4f33-9f74-90353a4bca53",
   "metadata": {},
   "source": [
    "## Get the Data and Showing the Tables"
   ]
  },
  {
   "cell_type": "code",
   "execution_count": 20,
   "id": "122b3e48-6994-4ae1-a125-b564598912bd",
   "metadata": {},
   "outputs": [],
   "source": [
    "transactions = pd.read_csv('https://raw.githubusercontent.com/tuhinhussain1995/PROJECT-Data-Analysis-Sales-Insights-PowerBI/refs/heads/master/transactions.csv')"
   ]
  },
  {
   "cell_type": "code",
   "execution_count": 22,
   "id": "8a865a90-c627-49ef-9dc1-8c0ad13fdac5",
   "metadata": {},
   "outputs": [
    {
     "data": {
      "text/html": [
       "<div>\n",
       "<style scoped>\n",
       "    .dataframe tbody tr th:only-of-type {\n",
       "        vertical-align: middle;\n",
       "    }\n",
       "\n",
       "    .dataframe tbody tr th {\n",
       "        vertical-align: top;\n",
       "    }\n",
       "\n",
       "    .dataframe thead th {\n",
       "        text-align: right;\n",
       "    }\n",
       "</style>\n",
       "<table border=\"1\" class=\"dataframe\">\n",
       "  <thead>\n",
       "    <tr style=\"text-align: right;\">\n",
       "      <th></th>\n",
       "      <th>product_code</th>\n",
       "      <th>customer_code</th>\n",
       "      <th>market_code</th>\n",
       "      <th>order_date</th>\n",
       "      <th>sales_qty</th>\n",
       "      <th>sales_amount</th>\n",
       "      <th>currency</th>\n",
       "    </tr>\n",
       "  </thead>\n",
       "  <tbody>\n",
       "    <tr>\n",
       "      <th>0</th>\n",
       "      <td>Prod001</td>\n",
       "      <td>Cus001</td>\n",
       "      <td>Mark001</td>\n",
       "      <td>2017-10-10</td>\n",
       "      <td>100</td>\n",
       "      <td>41241.00</td>\n",
       "      <td>INR</td>\n",
       "    </tr>\n",
       "    <tr>\n",
       "      <th>1</th>\n",
       "      <td>Prod001</td>\n",
       "      <td>Cus002</td>\n",
       "      <td>Mark002</td>\n",
       "      <td>2018-05-08</td>\n",
       "      <td>3</td>\n",
       "      <td>-1.00</td>\n",
       "      <td>INR</td>\n",
       "    </tr>\n",
       "    <tr>\n",
       "      <th>2</th>\n",
       "      <td>Prod002</td>\n",
       "      <td>Cus003</td>\n",
       "      <td>Mark003</td>\n",
       "      <td>2018-04-06</td>\n",
       "      <td>1</td>\n",
       "      <td>875.00</td>\n",
       "      <td>INR</td>\n",
       "    </tr>\n",
       "    <tr>\n",
       "      <th>3</th>\n",
       "      <td>Prod002</td>\n",
       "      <td>Cus003</td>\n",
       "      <td>Mark003</td>\n",
       "      <td>2018-04-11</td>\n",
       "      <td>1</td>\n",
       "      <td>583.00</td>\n",
       "      <td>INR</td>\n",
       "    </tr>\n",
       "    <tr>\n",
       "      <th>4</th>\n",
       "      <td>Prod002</td>\n",
       "      <td>Cus004</td>\n",
       "      <td>Mark003</td>\n",
       "      <td>2018-06-18</td>\n",
       "      <td>6</td>\n",
       "      <td>7176.00</td>\n",
       "      <td>INR</td>\n",
       "    </tr>\n",
       "  </tbody>\n",
       "</table>\n",
       "</div>"
      ],
      "text/plain": [
       "  product_code customer_code market_code  order_date  sales_qty  sales_amount  \\\n",
       "0      Prod001        Cus001     Mark001  2017-10-10        100      41241.00   \n",
       "1      Prod001        Cus002     Mark002  2018-05-08          3         -1.00   \n",
       "2      Prod002        Cus003     Mark003  2018-04-06          1        875.00   \n",
       "3      Prod002        Cus003     Mark003  2018-04-11          1        583.00   \n",
       "4      Prod002        Cus004     Mark003  2018-06-18          6       7176.00   \n",
       "\n",
       "  currency  \n",
       "0      INR  \n",
       "1      INR  \n",
       "2      INR  \n",
       "3      INR  \n",
       "4      INR  "
      ]
     },
     "execution_count": 22,
     "metadata": {},
     "output_type": "execute_result"
    }
   ],
   "source": [
    "transactions.head(5)"
   ]
  },
  {
   "cell_type": "code",
   "execution_count": 25,
   "id": "0a432961-1027-482b-b8cc-140b1a9d90c1",
   "metadata": {},
   "outputs": [],
   "source": [
    "products = pd.read_csv('https://raw.githubusercontent.com/tuhinhussain1995/PROJECT-Data-Analysis-Sales-Insights-PowerBI/refs/heads/master/products.csv')"
   ]
  },
  {
   "cell_type": "code",
   "execution_count": 28,
   "id": "120e3721-1207-409c-ab9a-f7f11906fbad",
   "metadata": {},
   "outputs": [
    {
     "data": {
      "text/html": [
       "<div>\n",
       "<style scoped>\n",
       "    .dataframe tbody tr th:only-of-type {\n",
       "        vertical-align: middle;\n",
       "    }\n",
       "\n",
       "    .dataframe tbody tr th {\n",
       "        vertical-align: top;\n",
       "    }\n",
       "\n",
       "    .dataframe thead th {\n",
       "        text-align: right;\n",
       "    }\n",
       "</style>\n",
       "<table border=\"1\" class=\"dataframe\">\n",
       "  <thead>\n",
       "    <tr style=\"text-align: right;\">\n",
       "      <th></th>\n",
       "      <th>product_code</th>\n",
       "      <th>product_type</th>\n",
       "    </tr>\n",
       "  </thead>\n",
       "  <tbody>\n",
       "    <tr>\n",
       "      <th>135</th>\n",
       "      <td>Prod136</td>\n",
       "      <td>Own Brand</td>\n",
       "    </tr>\n",
       "    <tr>\n",
       "      <th>73</th>\n",
       "      <td>Prod074</td>\n",
       "      <td>Distribution</td>\n",
       "    </tr>\n",
       "    <tr>\n",
       "      <th>207</th>\n",
       "      <td>Prod208</td>\n",
       "      <td>Own Brand</td>\n",
       "    </tr>\n",
       "    <tr>\n",
       "      <th>196</th>\n",
       "      <td>Prod197</td>\n",
       "      <td>Own Brand</td>\n",
       "    </tr>\n",
       "    <tr>\n",
       "      <th>169</th>\n",
       "      <td>Prod170</td>\n",
       "      <td>Own Brand</td>\n",
       "    </tr>\n",
       "  </tbody>\n",
       "</table>\n",
       "</div>"
      ],
      "text/plain": [
       "    product_code  product_type\n",
       "135      Prod136     Own Brand\n",
       "73       Prod074  Distribution\n",
       "207      Prod208     Own Brand\n",
       "196      Prod197     Own Brand\n",
       "169      Prod170     Own Brand"
      ]
     },
     "execution_count": 28,
     "metadata": {},
     "output_type": "execute_result"
    }
   ],
   "source": [
    "products.sample(5)"
   ]
  },
  {
   "cell_type": "code",
   "execution_count": 29,
   "id": "2a27a522-ba8f-46a3-b5a9-af4af1e1313e",
   "metadata": {},
   "outputs": [],
   "source": [
    "markets = pd.read_csv('https://raw.githubusercontent.com/tuhinhussain1995/PROJECT-Data-Analysis-Sales-Insights-PowerBI/refs/heads/master/markets.csv')\n"
   ]
  },
  {
   "cell_type": "code",
   "execution_count": 30,
   "id": "006a72fd-d561-4a96-8f4f-23ce51198dce",
   "metadata": {},
   "outputs": [
    {
     "data": {
      "text/html": [
       "<div>\n",
       "<style scoped>\n",
       "    .dataframe tbody tr th:only-of-type {\n",
       "        vertical-align: middle;\n",
       "    }\n",
       "\n",
       "    .dataframe tbody tr th {\n",
       "        vertical-align: top;\n",
       "    }\n",
       "\n",
       "    .dataframe thead th {\n",
       "        text-align: right;\n",
       "    }\n",
       "</style>\n",
       "<table border=\"1\" class=\"dataframe\">\n",
       "  <thead>\n",
       "    <tr style=\"text-align: right;\">\n",
       "      <th></th>\n",
       "      <th>markets_code</th>\n",
       "      <th>markets_name</th>\n",
       "      <th>zone</th>\n",
       "    </tr>\n",
       "  </thead>\n",
       "  <tbody>\n",
       "    <tr>\n",
       "      <th>13</th>\n",
       "      <td>Mark014</td>\n",
       "      <td>Hyderabad</td>\n",
       "      <td>South</td>\n",
       "    </tr>\n",
       "    <tr>\n",
       "      <th>3</th>\n",
       "      <td>Mark004</td>\n",
       "      <td>Delhi NCR</td>\n",
       "      <td>North</td>\n",
       "    </tr>\n",
       "    <tr>\n",
       "      <th>8</th>\n",
       "      <td>Mark009</td>\n",
       "      <td>Patna</td>\n",
       "      <td>North</td>\n",
       "    </tr>\n",
       "    <tr>\n",
       "      <th>6</th>\n",
       "      <td>Mark007</td>\n",
       "      <td>Bhopal</td>\n",
       "      <td>Central</td>\n",
       "    </tr>\n",
       "    <tr>\n",
       "      <th>9</th>\n",
       "      <td>Mark010</td>\n",
       "      <td>Kochi</td>\n",
       "      <td>South</td>\n",
       "    </tr>\n",
       "  </tbody>\n",
       "</table>\n",
       "</div>"
      ],
      "text/plain": [
       "   markets_code markets_name     zone\n",
       "13      Mark014    Hyderabad    South\n",
       "3       Mark004    Delhi NCR    North\n",
       "8       Mark009        Patna    North\n",
       "6       Mark007       Bhopal  Central\n",
       "9       Mark010        Kochi    South"
      ]
     },
     "execution_count": 30,
     "metadata": {},
     "output_type": "execute_result"
    }
   ],
   "source": [
    "markets.sample(5)"
   ]
  },
  {
   "cell_type": "code",
   "execution_count": 31,
   "id": "d46082ff-8d4c-4670-a2e1-534946af01c9",
   "metadata": {},
   "outputs": [],
   "source": [
    "customers = pd.read_csv('https://raw.githubusercontent.com/tuhinhussain1995/PROJECT-Data-Analysis-Sales-Insights-PowerBI/refs/heads/master/customers.csv')"
   ]
  },
  {
   "cell_type": "code",
   "execution_count": 32,
   "id": "53a6c755-20bc-485d-a04d-4f5657cb8c59",
   "metadata": {},
   "outputs": [
    {
     "data": {
      "text/html": [
       "<div>\n",
       "<style scoped>\n",
       "    .dataframe tbody tr th:only-of-type {\n",
       "        vertical-align: middle;\n",
       "    }\n",
       "\n",
       "    .dataframe tbody tr th {\n",
       "        vertical-align: top;\n",
       "    }\n",
       "\n",
       "    .dataframe thead th {\n",
       "        text-align: right;\n",
       "    }\n",
       "</style>\n",
       "<table border=\"1\" class=\"dataframe\">\n",
       "  <thead>\n",
       "    <tr style=\"text-align: right;\">\n",
       "      <th></th>\n",
       "      <th>customer_code</th>\n",
       "      <th>custmer_name</th>\n",
       "      <th>customer_type</th>\n",
       "    </tr>\n",
       "  </thead>\n",
       "  <tbody>\n",
       "    <tr>\n",
       "      <th>29</th>\n",
       "      <td>Cus030</td>\n",
       "      <td>Synthetic</td>\n",
       "      <td>E-Commerce</td>\n",
       "    </tr>\n",
       "    <tr>\n",
       "      <th>1</th>\n",
       "      <td>Cus002</td>\n",
       "      <td>Nomad Stores</td>\n",
       "      <td>Brick &amp; Mortar</td>\n",
       "    </tr>\n",
       "    <tr>\n",
       "      <th>27</th>\n",
       "      <td>Cus028</td>\n",
       "      <td>Sage</td>\n",
       "      <td>E-Commerce</td>\n",
       "    </tr>\n",
       "    <tr>\n",
       "      <th>30</th>\n",
       "      <td>Cus031</td>\n",
       "      <td>Zone</td>\n",
       "      <td>E-Commerce</td>\n",
       "    </tr>\n",
       "    <tr>\n",
       "      <th>18</th>\n",
       "      <td>Cus019</td>\n",
       "      <td>Electricalsopedia Stores</td>\n",
       "      <td>Brick &amp; Mortar</td>\n",
       "    </tr>\n",
       "  </tbody>\n",
       "</table>\n",
       "</div>"
      ],
      "text/plain": [
       "   customer_code              custmer_name   customer_type\n",
       "29        Cus030                 Synthetic      E-Commerce\n",
       "1         Cus002              Nomad Stores  Brick & Mortar\n",
       "27        Cus028                      Sage      E-Commerce\n",
       "30        Cus031                      Zone      E-Commerce\n",
       "18        Cus019  Electricalsopedia Stores  Brick & Mortar"
      ]
     },
     "execution_count": 32,
     "metadata": {},
     "output_type": "execute_result"
    }
   ],
   "source": [
    "customers.sample(5)"
   ]
  },
  {
   "cell_type": "code",
   "execution_count": 33,
   "id": "837b3d43-44fb-49fc-a08a-86246d97b87a",
   "metadata": {},
   "outputs": [],
   "source": [
    "date = pd.read_csv('https://raw.githubusercontent.com/tuhinhussain1995/PROJECT-Data-Analysis-Sales-Insights-PowerBI/refs/heads/master/date.csv')\n"
   ]
  },
  {
   "cell_type": "code",
   "execution_count": 34,
   "id": "fbba11ac-c844-4239-9240-ccad9bf8d189",
   "metadata": {},
   "outputs": [
    {
     "data": {
      "text/html": [
       "<div>\n",
       "<style scoped>\n",
       "    .dataframe tbody tr th:only-of-type {\n",
       "        vertical-align: middle;\n",
       "    }\n",
       "\n",
       "    .dataframe tbody tr th {\n",
       "        vertical-align: top;\n",
       "    }\n",
       "\n",
       "    .dataframe thead th {\n",
       "        text-align: right;\n",
       "    }\n",
       "</style>\n",
       "<table border=\"1\" class=\"dataframe\">\n",
       "  <thead>\n",
       "    <tr style=\"text-align: right;\">\n",
       "      <th></th>\n",
       "      <th>date</th>\n",
       "      <th>cy_date</th>\n",
       "      <th>year</th>\n",
       "      <th>month_name</th>\n",
       "      <th>date_yy_mmm</th>\n",
       "    </tr>\n",
       "  </thead>\n",
       "  <tbody>\n",
       "    <tr>\n",
       "      <th>1048</th>\n",
       "      <td>2020-04-14</td>\n",
       "      <td>2020-04-01</td>\n",
       "      <td>2020</td>\n",
       "      <td>April</td>\n",
       "      <td>20-Apr</td>\n",
       "    </tr>\n",
       "    <tr>\n",
       "      <th>339</th>\n",
       "      <td>2018-05-06</td>\n",
       "      <td>2018-05-01</td>\n",
       "      <td>2018</td>\n",
       "      <td>May</td>\n",
       "      <td>18-May</td>\n",
       "    </tr>\n",
       "    <tr>\n",
       "      <th>665</th>\n",
       "      <td>2019-03-28</td>\n",
       "      <td>2019-03-01</td>\n",
       "      <td>2019</td>\n",
       "      <td>March</td>\n",
       "      <td>19-Mar</td>\n",
       "    </tr>\n",
       "    <tr>\n",
       "      <th>530</th>\n",
       "      <td>2018-11-13</td>\n",
       "      <td>2018-11-01</td>\n",
       "      <td>2018</td>\n",
       "      <td>November</td>\n",
       "      <td>18-Nov</td>\n",
       "    </tr>\n",
       "    <tr>\n",
       "      <th>221</th>\n",
       "      <td>2018-01-08</td>\n",
       "      <td>2018-01-01</td>\n",
       "      <td>2018</td>\n",
       "      <td>January</td>\n",
       "      <td>18-Jan</td>\n",
       "    </tr>\n",
       "  </tbody>\n",
       "</table>\n",
       "</div>"
      ],
      "text/plain": [
       "            date     cy_date  year month_name date_yy_mmm\n",
       "1048  2020-04-14  2020-04-01  2020      April      20-Apr\n",
       "339   2018-05-06  2018-05-01  2018        May      18-May\n",
       "665   2019-03-28  2019-03-01  2019      March      19-Mar\n",
       "530   2018-11-13  2018-11-01  2018   November      18-Nov\n",
       "221   2018-01-08  2018-01-01  2018    January      18-Jan"
      ]
     },
     "execution_count": 34,
     "metadata": {},
     "output_type": "execute_result"
    }
   ],
   "source": [
    "date.sample(5)"
   ]
  },
  {
   "cell_type": "markdown",
   "id": "e71d0771-fbe4-4d4c-a1e7-5c5d8a05c23b",
   "metadata": {},
   "source": [
    "## Transactions"
   ]
  },
  {
   "cell_type": "code",
   "execution_count": 37,
   "id": "5ba6fa36-4a83-4984-a4e5-d2ef5a2c3f5e",
   "metadata": {},
   "outputs": [
    {
     "data": {
      "text/plain": [
       "product_code      object\n",
       "customer_code     object\n",
       "market_code       object\n",
       "order_date        object\n",
       "sales_qty          int64\n",
       "sales_amount     float64\n",
       "currency          object\n",
       "dtype: object"
      ]
     },
     "execution_count": 37,
     "metadata": {},
     "output_type": "execute_result"
    }
   ],
   "source": [
    "transactions.dtypes"
   ]
  },
  {
   "cell_type": "markdown",
   "id": "8572da1f-cdde-4d62-b430-65afc0f57b5c",
   "metadata": {},
   "source": [
    "## Check null values"
   ]
  },
  {
   "cell_type": "code",
   "execution_count": 38,
   "id": "cffbdcf7-d920-48a7-82d2-7c372e45eb6f",
   "metadata": {},
   "outputs": [
    {
     "data": {
      "text/plain": [
       "product_code     0\n",
       "customer_code    0\n",
       "market_code      0\n",
       "order_date       0\n",
       "sales_qty        0\n",
       "sales_amount     0\n",
       "currency         0\n",
       "dtype: int64"
      ]
     },
     "execution_count": 38,
     "metadata": {},
     "output_type": "execute_result"
    }
   ],
   "source": [
    "transactions.isnull().sum()"
   ]
  },
  {
   "cell_type": "markdown",
   "id": "6325a9b9-7baa-4fc0-b60f-1ef97e56402c",
   "metadata": {},
   "source": [
    "## Sales_amount bleow 1 "
   ]
  },
  {
   "cell_type": "code",
   "execution_count": 39,
   "id": "4d481ac7-606e-4bf8-a21e-529060bce748",
   "metadata": {},
   "outputs": [
    {
     "data": {
      "text/html": [
       "<div>\n",
       "<style scoped>\n",
       "    .dataframe tbody tr th:only-of-type {\n",
       "        vertical-align: middle;\n",
       "    }\n",
       "\n",
       "    .dataframe tbody tr th {\n",
       "        vertical-align: top;\n",
       "    }\n",
       "\n",
       "    .dataframe thead th {\n",
       "        text-align: right;\n",
       "    }\n",
       "</style>\n",
       "<table border=\"1\" class=\"dataframe\">\n",
       "  <thead>\n",
       "    <tr style=\"text-align: right;\">\n",
       "      <th></th>\n",
       "      <th>product_code</th>\n",
       "      <th>customer_code</th>\n",
       "      <th>market_code</th>\n",
       "      <th>order_date</th>\n",
       "      <th>sales_qty</th>\n",
       "      <th>sales_amount</th>\n",
       "      <th>currency</th>\n",
       "    </tr>\n",
       "  </thead>\n",
       "  <tbody>\n",
       "    <tr>\n",
       "      <th>54508</th>\n",
       "      <td>Prod159</td>\n",
       "      <td>Cus020</td>\n",
       "      <td>Mark006</td>\n",
       "      <td>2018-02-06</td>\n",
       "      <td>1</td>\n",
       "      <td>0.00</td>\n",
       "      <td>INR</td>\n",
       "    </tr>\n",
       "    <tr>\n",
       "      <th>17409</th>\n",
       "      <td>Prod065</td>\n",
       "      <td>Cus003</td>\n",
       "      <td>Mark006</td>\n",
       "      <td>2018-02-19</td>\n",
       "      <td>1</td>\n",
       "      <td>0.00</td>\n",
       "      <td>INR</td>\n",
       "    </tr>\n",
       "    <tr>\n",
       "      <th>54493</th>\n",
       "      <td>Prod159</td>\n",
       "      <td>Cus005</td>\n",
       "      <td>Mark006</td>\n",
       "      <td>2018-01-30</td>\n",
       "      <td>12</td>\n",
       "      <td>0.00</td>\n",
       "      <td>INR</td>\n",
       "    </tr>\n",
       "  </tbody>\n",
       "</table>\n",
       "</div>"
      ],
      "text/plain": [
       "      product_code customer_code market_code  order_date  sales_qty  \\\n",
       "54508      Prod159        Cus020     Mark006  2018-02-06          1   \n",
       "17409      Prod065        Cus003     Mark006  2018-02-19          1   \n",
       "54493      Prod159        Cus005     Mark006  2018-01-30         12   \n",
       "\n",
       "       sales_amount currency  \n",
       "54508          0.00      INR  \n",
       "17409          0.00      INR  \n",
       "54493          0.00      INR  "
      ]
     },
     "execution_count": 39,
     "metadata": {},
     "output_type": "execute_result"
    }
   ],
   "source": [
    "transactions[transactions['sales_amount'] <= 0].sample(3)"
   ]
  },
  {
   "cell_type": "code",
   "execution_count": 40,
   "id": "6e0bee7d-089d-46ac-8197-6041ed406d7b",
   "metadata": {},
   "outputs": [
    {
     "data": {
      "text/plain": [
       "1611"
      ]
     },
     "execution_count": 40,
     "metadata": {},
     "output_type": "execute_result"
    }
   ],
   "source": [
    "len(transactions[transactions['sales_amount'] <= 0])"
   ]
  },
  {
   "cell_type": "code",
   "execution_count": 41,
   "id": "3bcec5b3-9899-433f-b070-92ed29fb6ad4",
   "metadata": {},
   "outputs": [
    {
     "data": {
      "text/plain": [
       "(150283, 7)"
      ]
     },
     "execution_count": 41,
     "metadata": {},
     "output_type": "execute_result"
    }
   ],
   "source": [
    "transactions.shape"
   ]
  },
  {
   "cell_type": "code",
   "execution_count": 43,
   "id": "b54303a0-c97b-4fc6-a28d-22016869c66f",
   "metadata": {},
   "outputs": [],
   "source": [
    "transactions.drop(transactions[transactions['sales_amount'] <= 0].index, inplace=True)"
   ]
  },
  {
   "cell_type": "code",
   "execution_count": 44,
   "id": "8907904b-4749-4a50-99e6-83dd65bcee44",
   "metadata": {},
   "outputs": [
    {
     "data": {
      "text/plain": [
       "(148672, 7)"
      ]
     },
     "execution_count": 44,
     "metadata": {},
     "output_type": "execute_result"
    }
   ],
   "source": [
    "transactions.shape"
   ]
  },
  {
   "cell_type": "markdown",
   "id": "a55eca20-e741-4c9e-83d6-c6d92a292c53",
   "metadata": {},
   "source": [
    "## USD to INR Conversation "
   ]
  },
  {
   "cell_type": "code",
   "execution_count": 45,
   "id": "13001ad8-08fa-4f8c-a0cb-ccf163542b41",
   "metadata": {},
   "outputs": [
    {
     "data": {
      "text/plain": [
       "array(['INR', 'USD'], dtype=object)"
      ]
     },
     "execution_count": 45,
     "metadata": {},
     "output_type": "execute_result"
    }
   ],
   "source": [
    "transactions['currency'].unique()"
   ]
  },
  {
   "cell_type": "code",
   "execution_count": 46,
   "id": "fb10890f-799d-4b6e-ab2a-27c183fdf444",
   "metadata": {},
   "outputs": [
    {
     "data": {
      "text/html": [
       "<div>\n",
       "<style scoped>\n",
       "    .dataframe tbody tr th:only-of-type {\n",
       "        vertical-align: middle;\n",
       "    }\n",
       "\n",
       "    .dataframe tbody tr th {\n",
       "        vertical-align: top;\n",
       "    }\n",
       "\n",
       "    .dataframe thead th {\n",
       "        text-align: right;\n",
       "    }\n",
       "</style>\n",
       "<table border=\"1\" class=\"dataframe\">\n",
       "  <thead>\n",
       "    <tr style=\"text-align: right;\">\n",
       "      <th></th>\n",
       "      <th>product_code</th>\n",
       "      <th>customer_code</th>\n",
       "      <th>market_code</th>\n",
       "      <th>order_date</th>\n",
       "      <th>sales_qty</th>\n",
       "      <th>sales_amount</th>\n",
       "      <th>currency</th>\n",
       "    </tr>\n",
       "  </thead>\n",
       "  <tbody>\n",
       "    <tr>\n",
       "      <th>5</th>\n",
       "      <td>Prod003</td>\n",
       "      <td>Cus005</td>\n",
       "      <td>Mark004</td>\n",
       "      <td>2017-11-20</td>\n",
       "      <td>59</td>\n",
       "      <td>500.00</td>\n",
       "      <td>USD</td>\n",
       "    </tr>\n",
       "    <tr>\n",
       "      <th>6</th>\n",
       "      <td>Prod003</td>\n",
       "      <td>Cus005</td>\n",
       "      <td>Mark004</td>\n",
       "      <td>2017-11-22</td>\n",
       "      <td>36</td>\n",
       "      <td>250.00</td>\n",
       "      <td>USD</td>\n",
       "    </tr>\n",
       "    <tr>\n",
       "      <th>286</th>\n",
       "      <td>Prod003</td>\n",
       "      <td>Cus005</td>\n",
       "      <td>Mark004</td>\n",
       "      <td>2017-11-20</td>\n",
       "      <td>59</td>\n",
       "      <td>500.00</td>\n",
       "      <td>USD</td>\n",
       "    </tr>\n",
       "    <tr>\n",
       "      <th>287</th>\n",
       "      <td>Prod003</td>\n",
       "      <td>Cus005</td>\n",
       "      <td>Mark004</td>\n",
       "      <td>2017-11-22</td>\n",
       "      <td>36</td>\n",
       "      <td>250.00</td>\n",
       "      <td>USD</td>\n",
       "    </tr>\n",
       "  </tbody>\n",
       "</table>\n",
       "</div>"
      ],
      "text/plain": [
       "    product_code customer_code market_code  order_date  sales_qty  \\\n",
       "5        Prod003        Cus005     Mark004  2017-11-20         59   \n",
       "6        Prod003        Cus005     Mark004  2017-11-22         36   \n",
       "286      Prod003        Cus005     Mark004  2017-11-20         59   \n",
       "287      Prod003        Cus005     Mark004  2017-11-22         36   \n",
       "\n",
       "     sales_amount currency  \n",
       "5          500.00      USD  \n",
       "6          250.00      USD  \n",
       "286        500.00      USD  \n",
       "287        250.00      USD  "
      ]
     },
     "execution_count": 46,
     "metadata": {},
     "output_type": "execute_result"
    }
   ],
   "source": [
    "transactions[transactions['currency'] == 'USD']"
   ]
  },
  {
   "cell_type": "code",
   "execution_count": 47,
   "id": "1bd19674-eb08-4cf5-bcf5-cb1cceb2eac1",
   "metadata": {},
   "outputs": [
    {
     "data": {
      "text/plain": [
       "5     500.00\n",
       "6     250.00\n",
       "286   500.00\n",
       "287   250.00\n",
       "Name: sales_amount, dtype: float64"
      ]
     },
     "execution_count": 47,
     "metadata": {},
     "output_type": "execute_result"
    }
   ],
   "source": [
    "transactions[transactions['currency'] == 'USD']['sales_amount']"
   ]
  },
  {
   "cell_type": "code",
   "execution_count": 48,
   "id": "5ddfa2bd-5b05-4ee7-8043-2d2314cd05ee",
   "metadata": {},
   "outputs": [],
   "source": [
    "val = transactions[transactions['currency'] == 'USD'].index"
   ]
  },
  {
   "cell_type": "code",
   "execution_count": 50,
   "id": "341d364a-edf9-4b15-a030-7f3a0ca990a3",
   "metadata": {},
   "outputs": [
    {
     "data": {
      "text/plain": [
       "Index([5, 6, 286, 287], dtype='int64')"
      ]
     },
     "execution_count": 50,
     "metadata": {},
     "output_type": "execute_result"
    }
   ],
   "source": [
    "val"
   ]
  },
  {
   "cell_type": "code",
   "execution_count": 51,
   "id": "6ce8f716-abed-4266-ba9b-eb00a17083da",
   "metadata": {},
   "outputs": [],
   "source": [
    "for x in val:\n",
    "    transactions.at[x,'sales_amount'] = transactions.at[x,'sales_amount']*75\n",
    "    transactions.at[x,'currency'] = 'INR'"
   ]
  },
  {
   "cell_type": "code",
   "execution_count": 52,
   "id": "7fd804d4-8ead-42e3-9e38-ded8ebc39ce2",
   "metadata": {},
   "outputs": [
    {
     "data": {
      "text/html": [
       "<div>\n",
       "<style scoped>\n",
       "    .dataframe tbody tr th:only-of-type {\n",
       "        vertical-align: middle;\n",
       "    }\n",
       "\n",
       "    .dataframe tbody tr th {\n",
       "        vertical-align: top;\n",
       "    }\n",
       "\n",
       "    .dataframe thead th {\n",
       "        text-align: right;\n",
       "    }\n",
       "</style>\n",
       "<table border=\"1\" class=\"dataframe\">\n",
       "  <thead>\n",
       "    <tr style=\"text-align: right;\">\n",
       "      <th></th>\n",
       "      <th>product_code</th>\n",
       "      <th>customer_code</th>\n",
       "      <th>market_code</th>\n",
       "      <th>order_date</th>\n",
       "      <th>sales_qty</th>\n",
       "      <th>sales_amount</th>\n",
       "      <th>currency</th>\n",
       "    </tr>\n",
       "  </thead>\n",
       "  <tbody>\n",
       "    <tr>\n",
       "      <th>5</th>\n",
       "      <td>Prod003</td>\n",
       "      <td>Cus005</td>\n",
       "      <td>Mark004</td>\n",
       "      <td>2017-11-20</td>\n",
       "      <td>59</td>\n",
       "      <td>37500.00</td>\n",
       "      <td>INR</td>\n",
       "    </tr>\n",
       "    <tr>\n",
       "      <th>6</th>\n",
       "      <td>Prod003</td>\n",
       "      <td>Cus005</td>\n",
       "      <td>Mark004</td>\n",
       "      <td>2017-11-22</td>\n",
       "      <td>36</td>\n",
       "      <td>18750.00</td>\n",
       "      <td>INR</td>\n",
       "    </tr>\n",
       "    <tr>\n",
       "      <th>286</th>\n",
       "      <td>Prod003</td>\n",
       "      <td>Cus005</td>\n",
       "      <td>Mark004</td>\n",
       "      <td>2017-11-20</td>\n",
       "      <td>59</td>\n",
       "      <td>37500.00</td>\n",
       "      <td>INR</td>\n",
       "    </tr>\n",
       "    <tr>\n",
       "      <th>287</th>\n",
       "      <td>Prod003</td>\n",
       "      <td>Cus005</td>\n",
       "      <td>Mark004</td>\n",
       "      <td>2017-11-22</td>\n",
       "      <td>36</td>\n",
       "      <td>18750.00</td>\n",
       "      <td>INR</td>\n",
       "    </tr>\n",
       "  </tbody>\n",
       "</table>\n",
       "</div>"
      ],
      "text/plain": [
       "    product_code customer_code market_code  order_date  sales_qty  \\\n",
       "5        Prod003        Cus005     Mark004  2017-11-20         59   \n",
       "6        Prod003        Cus005     Mark004  2017-11-22         36   \n",
       "286      Prod003        Cus005     Mark004  2017-11-20         59   \n",
       "287      Prod003        Cus005     Mark004  2017-11-22         36   \n",
       "\n",
       "     sales_amount currency  \n",
       "5        37500.00      INR  \n",
       "6        18750.00      INR  \n",
       "286      37500.00      INR  \n",
       "287      18750.00      INR  "
      ]
     },
     "execution_count": 52,
     "metadata": {},
     "output_type": "execute_result"
    }
   ],
   "source": [
    "transactions.loc[val]"
   ]
  },
  {
   "cell_type": "markdown",
   "id": "0bbdfa07-8530-4829-81b2-1fe0dfed1121",
   "metadata": {},
   "source": [
    "## Adding column product_price "
   ]
  },
  {
   "cell_type": "code",
   "execution_count": 53,
   "id": "f0b08254-946e-4f37-9b60-8c1564ff37ce",
   "metadata": {},
   "outputs": [],
   "source": [
    "transactions['product_price'] = transactions['sales_amount'] / transactions['sales_qty']"
   ]
  },
  {
   "cell_type": "code",
   "execution_count": 54,
   "id": "ecb14ef4-b773-44c6-b456-fa0cebc744f4",
   "metadata": {},
   "outputs": [
    {
     "data": {
      "text/html": [
       "<div>\n",
       "<style scoped>\n",
       "    .dataframe tbody tr th:only-of-type {\n",
       "        vertical-align: middle;\n",
       "    }\n",
       "\n",
       "    .dataframe tbody tr th {\n",
       "        vertical-align: top;\n",
       "    }\n",
       "\n",
       "    .dataframe thead th {\n",
       "        text-align: right;\n",
       "    }\n",
       "</style>\n",
       "<table border=\"1\" class=\"dataframe\">\n",
       "  <thead>\n",
       "    <tr style=\"text-align: right;\">\n",
       "      <th></th>\n",
       "      <th>product_code</th>\n",
       "      <th>customer_code</th>\n",
       "      <th>market_code</th>\n",
       "      <th>order_date</th>\n",
       "      <th>sales_qty</th>\n",
       "      <th>sales_amount</th>\n",
       "      <th>currency</th>\n",
       "      <th>product_price</th>\n",
       "    </tr>\n",
       "  </thead>\n",
       "  <tbody>\n",
       "    <tr>\n",
       "      <th>0</th>\n",
       "      <td>Prod001</td>\n",
       "      <td>Cus001</td>\n",
       "      <td>Mark001</td>\n",
       "      <td>2017-10-10</td>\n",
       "      <td>100</td>\n",
       "      <td>41241.00</td>\n",
       "      <td>INR</td>\n",
       "      <td>412.41</td>\n",
       "    </tr>\n",
       "    <tr>\n",
       "      <th>2</th>\n",
       "      <td>Prod002</td>\n",
       "      <td>Cus003</td>\n",
       "      <td>Mark003</td>\n",
       "      <td>2018-04-06</td>\n",
       "      <td>1</td>\n",
       "      <td>875.00</td>\n",
       "      <td>INR</td>\n",
       "      <td>875.00</td>\n",
       "    </tr>\n",
       "    <tr>\n",
       "      <th>3</th>\n",
       "      <td>Prod002</td>\n",
       "      <td>Cus003</td>\n",
       "      <td>Mark003</td>\n",
       "      <td>2018-04-11</td>\n",
       "      <td>1</td>\n",
       "      <td>583.00</td>\n",
       "      <td>INR</td>\n",
       "      <td>583.00</td>\n",
       "    </tr>\n",
       "    <tr>\n",
       "      <th>4</th>\n",
       "      <td>Prod002</td>\n",
       "      <td>Cus004</td>\n",
       "      <td>Mark003</td>\n",
       "      <td>2018-06-18</td>\n",
       "      <td>6</td>\n",
       "      <td>7176.00</td>\n",
       "      <td>INR</td>\n",
       "      <td>1196.00</td>\n",
       "    </tr>\n",
       "    <tr>\n",
       "      <th>5</th>\n",
       "      <td>Prod003</td>\n",
       "      <td>Cus005</td>\n",
       "      <td>Mark004</td>\n",
       "      <td>2017-11-20</td>\n",
       "      <td>59</td>\n",
       "      <td>37500.00</td>\n",
       "      <td>INR</td>\n",
       "      <td>635.59</td>\n",
       "    </tr>\n",
       "  </tbody>\n",
       "</table>\n",
       "</div>"
      ],
      "text/plain": [
       "  product_code customer_code market_code  order_date  sales_qty  sales_amount  \\\n",
       "0      Prod001        Cus001     Mark001  2017-10-10        100      41241.00   \n",
       "2      Prod002        Cus003     Mark003  2018-04-06          1        875.00   \n",
       "3      Prod002        Cus003     Mark003  2018-04-11          1        583.00   \n",
       "4      Prod002        Cus004     Mark003  2018-06-18          6       7176.00   \n",
       "5      Prod003        Cus005     Mark004  2017-11-20         59      37500.00   \n",
       "\n",
       "  currency  product_price  \n",
       "0      INR         412.41  \n",
       "2      INR         875.00  \n",
       "3      INR         583.00  \n",
       "4      INR        1196.00  \n",
       "5      INR         635.59  "
      ]
     },
     "execution_count": 54,
     "metadata": {},
     "output_type": "execute_result"
    }
   ],
   "source": [
    "transactions.head(5)"
   ]
  },
  {
   "cell_type": "code",
   "execution_count": 55,
   "id": "f6e6dd1c-b8c1-43a1-83b1-7327155847e8",
   "metadata": {},
   "outputs": [
    {
     "data": {
      "text/plain": [
       "product_code     0\n",
       "customer_code    0\n",
       "market_code      0\n",
       "order_date       0\n",
       "sales_qty        0\n",
       "sales_amount     0\n",
       "currency         0\n",
       "product_price    0\n",
       "dtype: int64"
      ]
     },
     "execution_count": 55,
     "metadata": {},
     "output_type": "execute_result"
    }
   ],
   "source": [
    "transactions.isnull().sum()"
   ]
  },
  {
   "cell_type": "markdown",
   "id": "b0970abf-b034-435a-a372-96218fc75dd0",
   "metadata": {},
   "source": [
    "## Adding column original_price\n",
    "original_price refers to product price without profit "
   ]
  },
  {
   "cell_type": "code",
   "execution_count": 56,
   "id": "fae14617-00a1-4b4f-8e66-683f19d278c3",
   "metadata": {},
   "outputs": [],
   "source": [
    "def calc_perc(y):\n",
    "    profit = 8\n",
    "    \n",
    "    if y > 4000:\n",
    "        profit = 23\n",
    "    elif y > 3000:\n",
    "        profit = 19\n",
    "    elif y > 2000:\n",
    "        profit = 17\n",
    "    elif y > 1000:\n",
    "        profit = 15\n",
    "    elif y > 500:\n",
    "        profit = 13\n",
    "    elif y > 100:\n",
    "        profit = 11\n",
    "    else:\n",
    "        profit = 8\n",
    "        \n",
    "    return profit    "
   ]
  },
  {
   "cell_type": "code",
   "execution_count": 57,
   "id": "e2be7995-0a1e-46f9-b4f0-735f22e5f637",
   "metadata": {},
   "outputs": [],
   "source": [
    "transactions['profit_percentage'] = transactions['product_price'].apply(calc_perc)"
   ]
  },
  {
   "cell_type": "code",
   "execution_count": 58,
   "id": "ac8e4930-21ea-4f41-9c00-a83e79e50c22",
   "metadata": {},
   "outputs": [
    {
     "data": {
      "text/html": [
       "<div>\n",
       "<style scoped>\n",
       "    .dataframe tbody tr th:only-of-type {\n",
       "        vertical-align: middle;\n",
       "    }\n",
       "\n",
       "    .dataframe tbody tr th {\n",
       "        vertical-align: top;\n",
       "    }\n",
       "\n",
       "    .dataframe thead th {\n",
       "        text-align: right;\n",
       "    }\n",
       "</style>\n",
       "<table border=\"1\" class=\"dataframe\">\n",
       "  <thead>\n",
       "    <tr style=\"text-align: right;\">\n",
       "      <th></th>\n",
       "      <th>product_code</th>\n",
       "      <th>customer_code</th>\n",
       "      <th>market_code</th>\n",
       "      <th>order_date</th>\n",
       "      <th>sales_qty</th>\n",
       "      <th>sales_amount</th>\n",
       "      <th>currency</th>\n",
       "      <th>product_price</th>\n",
       "      <th>profit_percentage</th>\n",
       "    </tr>\n",
       "  </thead>\n",
       "  <tbody>\n",
       "    <tr>\n",
       "      <th>0</th>\n",
       "      <td>Prod001</td>\n",
       "      <td>Cus001</td>\n",
       "      <td>Mark001</td>\n",
       "      <td>2017-10-10</td>\n",
       "      <td>100</td>\n",
       "      <td>41241.00</td>\n",
       "      <td>INR</td>\n",
       "      <td>412.41</td>\n",
       "      <td>11</td>\n",
       "    </tr>\n",
       "    <tr>\n",
       "      <th>2</th>\n",
       "      <td>Prod002</td>\n",
       "      <td>Cus003</td>\n",
       "      <td>Mark003</td>\n",
       "      <td>2018-04-06</td>\n",
       "      <td>1</td>\n",
       "      <td>875.00</td>\n",
       "      <td>INR</td>\n",
       "      <td>875.00</td>\n",
       "      <td>13</td>\n",
       "    </tr>\n",
       "    <tr>\n",
       "      <th>3</th>\n",
       "      <td>Prod002</td>\n",
       "      <td>Cus003</td>\n",
       "      <td>Mark003</td>\n",
       "      <td>2018-04-11</td>\n",
       "      <td>1</td>\n",
       "      <td>583.00</td>\n",
       "      <td>INR</td>\n",
       "      <td>583.00</td>\n",
       "      <td>13</td>\n",
       "    </tr>\n",
       "    <tr>\n",
       "      <th>4</th>\n",
       "      <td>Prod002</td>\n",
       "      <td>Cus004</td>\n",
       "      <td>Mark003</td>\n",
       "      <td>2018-06-18</td>\n",
       "      <td>6</td>\n",
       "      <td>7176.00</td>\n",
       "      <td>INR</td>\n",
       "      <td>1196.00</td>\n",
       "      <td>15</td>\n",
       "    </tr>\n",
       "    <tr>\n",
       "      <th>5</th>\n",
       "      <td>Prod003</td>\n",
       "      <td>Cus005</td>\n",
       "      <td>Mark004</td>\n",
       "      <td>2017-11-20</td>\n",
       "      <td>59</td>\n",
       "      <td>37500.00</td>\n",
       "      <td>INR</td>\n",
       "      <td>635.59</td>\n",
       "      <td>13</td>\n",
       "    </tr>\n",
       "  </tbody>\n",
       "</table>\n",
       "</div>"
      ],
      "text/plain": [
       "  product_code customer_code market_code  order_date  sales_qty  sales_amount  \\\n",
       "0      Prod001        Cus001     Mark001  2017-10-10        100      41241.00   \n",
       "2      Prod002        Cus003     Mark003  2018-04-06          1        875.00   \n",
       "3      Prod002        Cus003     Mark003  2018-04-11          1        583.00   \n",
       "4      Prod002        Cus004     Mark003  2018-06-18          6       7176.00   \n",
       "5      Prod003        Cus005     Mark004  2017-11-20         59      37500.00   \n",
       "\n",
       "  currency  product_price  profit_percentage  \n",
       "0      INR         412.41                 11  \n",
       "2      INR         875.00                 13  \n",
       "3      INR         583.00                 13  \n",
       "4      INR        1196.00                 15  \n",
       "5      INR         635.59                 13  "
      ]
     },
     "execution_count": 58,
     "metadata": {},
     "output_type": "execute_result"
    }
   ],
   "source": [
    "transactions.head()"
   ]
  },
  {
   "cell_type": "code",
   "execution_count": 59,
   "id": "1f0bbcd7-80fd-4ef1-a3b2-497e2499ae4b",
   "metadata": {},
   "outputs": [
    {
     "data": {
      "text/plain": [
       "(148672, 9)"
      ]
     },
     "execution_count": 59,
     "metadata": {},
     "output_type": "execute_result"
    }
   ],
   "source": [
    "transactions.shape"
   ]
  },
  {
   "cell_type": "code",
   "execution_count": 60,
   "id": "74c5af85-b565-4cee-9b30-81404d43f985",
   "metadata": {},
   "outputs": [
    {
     "data": {
      "text/plain": [
       "0"
      ]
     },
     "execution_count": 60,
     "metadata": {},
     "output_type": "execute_result"
    }
   ],
   "source": [
    "transactions['profit_percentage'].isnull().sum()"
   ]
  },
  {
   "cell_type": "code",
   "execution_count": 61,
   "id": "b684959e-077d-4d32-b651-0d3334f9d744",
   "metadata": {},
   "outputs": [
    {
     "data": {
      "text/plain": [
       "product_code         0\n",
       "customer_code        0\n",
       "market_code          0\n",
       "order_date           0\n",
       "sales_qty            0\n",
       "sales_amount         0\n",
       "currency             0\n",
       "product_price        0\n",
       "profit_percentage    0\n",
       "dtype: int64"
      ]
     },
     "execution_count": 61,
     "metadata": {},
     "output_type": "execute_result"
    }
   ],
   "source": [
    "transactions.isnull().sum()"
   ]
  },
  {
   "cell_type": "code",
   "execution_count": 62,
   "id": "2b9faa97-7001-4516-b88a-b7115d72266e",
   "metadata": {},
   "outputs": [],
   "source": [
    "transactions['original_price'] = (transactions['product_price'] - (transactions['product_price']*(transactions['profit_percentage'] / 100)))"
   ]
  },
  {
   "cell_type": "code",
   "execution_count": 63,
   "id": "efa9d4b6-2139-40ba-8f07-eeff4b617e1d",
   "metadata": {},
   "outputs": [
    {
     "data": {
      "text/html": [
       "<div>\n",
       "<style scoped>\n",
       "    .dataframe tbody tr th:only-of-type {\n",
       "        vertical-align: middle;\n",
       "    }\n",
       "\n",
       "    .dataframe tbody tr th {\n",
       "        vertical-align: top;\n",
       "    }\n",
       "\n",
       "    .dataframe thead th {\n",
       "        text-align: right;\n",
       "    }\n",
       "</style>\n",
       "<table border=\"1\" class=\"dataframe\">\n",
       "  <thead>\n",
       "    <tr style=\"text-align: right;\">\n",
       "      <th></th>\n",
       "      <th>product_code</th>\n",
       "      <th>customer_code</th>\n",
       "      <th>market_code</th>\n",
       "      <th>order_date</th>\n",
       "      <th>sales_qty</th>\n",
       "      <th>sales_amount</th>\n",
       "      <th>currency</th>\n",
       "      <th>product_price</th>\n",
       "      <th>profit_percentage</th>\n",
       "      <th>original_price</th>\n",
       "    </tr>\n",
       "  </thead>\n",
       "  <tbody>\n",
       "    <tr>\n",
       "      <th>0</th>\n",
       "      <td>Prod001</td>\n",
       "      <td>Cus001</td>\n",
       "      <td>Mark001</td>\n",
       "      <td>2017-10-10</td>\n",
       "      <td>100</td>\n",
       "      <td>41241.00</td>\n",
       "      <td>INR</td>\n",
       "      <td>412.41</td>\n",
       "      <td>11</td>\n",
       "      <td>367.04</td>\n",
       "    </tr>\n",
       "    <tr>\n",
       "      <th>2</th>\n",
       "      <td>Prod002</td>\n",
       "      <td>Cus003</td>\n",
       "      <td>Mark003</td>\n",
       "      <td>2018-04-06</td>\n",
       "      <td>1</td>\n",
       "      <td>875.00</td>\n",
       "      <td>INR</td>\n",
       "      <td>875.00</td>\n",
       "      <td>13</td>\n",
       "      <td>761.25</td>\n",
       "    </tr>\n",
       "    <tr>\n",
       "      <th>3</th>\n",
       "      <td>Prod002</td>\n",
       "      <td>Cus003</td>\n",
       "      <td>Mark003</td>\n",
       "      <td>2018-04-11</td>\n",
       "      <td>1</td>\n",
       "      <td>583.00</td>\n",
       "      <td>INR</td>\n",
       "      <td>583.00</td>\n",
       "      <td>13</td>\n",
       "      <td>507.21</td>\n",
       "    </tr>\n",
       "    <tr>\n",
       "      <th>4</th>\n",
       "      <td>Prod002</td>\n",
       "      <td>Cus004</td>\n",
       "      <td>Mark003</td>\n",
       "      <td>2018-06-18</td>\n",
       "      <td>6</td>\n",
       "      <td>7176.00</td>\n",
       "      <td>INR</td>\n",
       "      <td>1196.00</td>\n",
       "      <td>15</td>\n",
       "      <td>1016.60</td>\n",
       "    </tr>\n",
       "    <tr>\n",
       "      <th>5</th>\n",
       "      <td>Prod003</td>\n",
       "      <td>Cus005</td>\n",
       "      <td>Mark004</td>\n",
       "      <td>2017-11-20</td>\n",
       "      <td>59</td>\n",
       "      <td>37500.00</td>\n",
       "      <td>INR</td>\n",
       "      <td>635.59</td>\n",
       "      <td>13</td>\n",
       "      <td>552.97</td>\n",
       "    </tr>\n",
       "  </tbody>\n",
       "</table>\n",
       "</div>"
      ],
      "text/plain": [
       "  product_code customer_code market_code  order_date  sales_qty  sales_amount  \\\n",
       "0      Prod001        Cus001     Mark001  2017-10-10        100      41241.00   \n",
       "2      Prod002        Cus003     Mark003  2018-04-06          1        875.00   \n",
       "3      Prod002        Cus003     Mark003  2018-04-11          1        583.00   \n",
       "4      Prod002        Cus004     Mark003  2018-06-18          6       7176.00   \n",
       "5      Prod003        Cus005     Mark004  2017-11-20         59      37500.00   \n",
       "\n",
       "  currency  product_price  profit_percentage  original_price  \n",
       "0      INR         412.41                 11          367.04  \n",
       "2      INR         875.00                 13          761.25  \n",
       "3      INR         583.00                 13          507.21  \n",
       "4      INR        1196.00                 15         1016.60  \n",
       "5      INR         635.59                 13          552.97  "
      ]
     },
     "execution_count": 63,
     "metadata": {},
     "output_type": "execute_result"
    }
   ],
   "source": [
    "transactions.head(5)"
   ]
  },
  {
   "cell_type": "markdown",
   "id": "320cf91e-f29f-4bdd-a8f2-ffc2a824628f",
   "metadata": {},
   "source": [
    "## Adding column profit"
   ]
  },
  {
   "cell_type": "code",
   "execution_count": 71,
   "id": "52e441f7-2d05-41dd-9c72-f7f218da1be7",
   "metadata": {},
   "outputs": [],
   "source": [
    "transactions['profit'] = transactions['product_price']*(transactions['profit_percentage'] / 100)"
   ]
  },
  {
   "cell_type": "code",
   "execution_count": 65,
   "id": "fa34bf02-16f5-4bdf-a23d-fa77fe69d232",
   "metadata": {},
   "outputs": [
    {
     "data": {
      "text/html": [
       "<div>\n",
       "<style scoped>\n",
       "    .dataframe tbody tr th:only-of-type {\n",
       "        vertical-align: middle;\n",
       "    }\n",
       "\n",
       "    .dataframe tbody tr th {\n",
       "        vertical-align: top;\n",
       "    }\n",
       "\n",
       "    .dataframe thead th {\n",
       "        text-align: right;\n",
       "    }\n",
       "</style>\n",
       "<table border=\"1\" class=\"dataframe\">\n",
       "  <thead>\n",
       "    <tr style=\"text-align: right;\">\n",
       "      <th></th>\n",
       "      <th>product_code</th>\n",
       "      <th>customer_code</th>\n",
       "      <th>market_code</th>\n",
       "      <th>order_date</th>\n",
       "      <th>sales_qty</th>\n",
       "      <th>sales_amount</th>\n",
       "      <th>currency</th>\n",
       "      <th>product_price</th>\n",
       "      <th>profit_percentage</th>\n",
       "      <th>original_price</th>\n",
       "      <th>profit</th>\n",
       "    </tr>\n",
       "  </thead>\n",
       "  <tbody>\n",
       "    <tr>\n",
       "      <th>0</th>\n",
       "      <td>Prod001</td>\n",
       "      <td>Cus001</td>\n",
       "      <td>Mark001</td>\n",
       "      <td>2017-10-10</td>\n",
       "      <td>100</td>\n",
       "      <td>41241.00</td>\n",
       "      <td>INR</td>\n",
       "      <td>412.41</td>\n",
       "      <td>11</td>\n",
       "      <td>367.04</td>\n",
       "      <td>45.37</td>\n",
       "    </tr>\n",
       "    <tr>\n",
       "      <th>2</th>\n",
       "      <td>Prod002</td>\n",
       "      <td>Cus003</td>\n",
       "      <td>Mark003</td>\n",
       "      <td>2018-04-06</td>\n",
       "      <td>1</td>\n",
       "      <td>875.00</td>\n",
       "      <td>INR</td>\n",
       "      <td>875.00</td>\n",
       "      <td>13</td>\n",
       "      <td>761.25</td>\n",
       "      <td>113.75</td>\n",
       "    </tr>\n",
       "    <tr>\n",
       "      <th>3</th>\n",
       "      <td>Prod002</td>\n",
       "      <td>Cus003</td>\n",
       "      <td>Mark003</td>\n",
       "      <td>2018-04-11</td>\n",
       "      <td>1</td>\n",
       "      <td>583.00</td>\n",
       "      <td>INR</td>\n",
       "      <td>583.00</td>\n",
       "      <td>13</td>\n",
       "      <td>507.21</td>\n",
       "      <td>75.79</td>\n",
       "    </tr>\n",
       "    <tr>\n",
       "      <th>4</th>\n",
       "      <td>Prod002</td>\n",
       "      <td>Cus004</td>\n",
       "      <td>Mark003</td>\n",
       "      <td>2018-06-18</td>\n",
       "      <td>6</td>\n",
       "      <td>7176.00</td>\n",
       "      <td>INR</td>\n",
       "      <td>1196.00</td>\n",
       "      <td>15</td>\n",
       "      <td>1016.60</td>\n",
       "      <td>179.40</td>\n",
       "    </tr>\n",
       "    <tr>\n",
       "      <th>5</th>\n",
       "      <td>Prod003</td>\n",
       "      <td>Cus005</td>\n",
       "      <td>Mark004</td>\n",
       "      <td>2017-11-20</td>\n",
       "      <td>59</td>\n",
       "      <td>37500.00</td>\n",
       "      <td>INR</td>\n",
       "      <td>635.59</td>\n",
       "      <td>13</td>\n",
       "      <td>552.97</td>\n",
       "      <td>82.63</td>\n",
       "    </tr>\n",
       "  </tbody>\n",
       "</table>\n",
       "</div>"
      ],
      "text/plain": [
       "  product_code customer_code market_code  order_date  sales_qty  sales_amount  \\\n",
       "0      Prod001        Cus001     Mark001  2017-10-10        100      41241.00   \n",
       "2      Prod002        Cus003     Mark003  2018-04-06          1        875.00   \n",
       "3      Prod002        Cus003     Mark003  2018-04-11          1        583.00   \n",
       "4      Prod002        Cus004     Mark003  2018-06-18          6       7176.00   \n",
       "5      Prod003        Cus005     Mark004  2017-11-20         59      37500.00   \n",
       "\n",
       "  currency  product_price  profit_percentage  original_price  profit  \n",
       "0      INR         412.41                 11          367.04   45.37  \n",
       "2      INR         875.00                 13          761.25  113.75  \n",
       "3      INR         583.00                 13          507.21   75.79  \n",
       "4      INR        1196.00                 15         1016.60  179.40  \n",
       "5      INR         635.59                 13          552.97   82.63  "
      ]
     },
     "execution_count": 65,
     "metadata": {},
     "output_type": "execute_result"
    }
   ],
   "source": [
    "transactions.head(5)"
   ]
  },
  {
   "cell_type": "markdown",
   "id": "adf82caf-9e6a-47dc-8373-120a20ae89f7",
   "metadata": {},
   "source": [
    "## Adding Column total_profit"
   ]
  },
  {
   "cell_type": "code",
   "execution_count": 75,
   "id": "aea3a481-6d90-4bb6-bb85-54a8ac4b0d2f",
   "metadata": {},
   "outputs": [],
   "source": [
    "transactions['total_profit'] = (transactions['sales_qty'])*(transactions['product_price']*(transactions['profit_percentage'] / 100))"
   ]
  },
  {
   "cell_type": "code",
   "execution_count": 76,
   "id": "9d8e09d7-3d08-474a-b35c-23ecab49f961",
   "metadata": {},
   "outputs": [
    {
     "data": {
      "text/html": [
       "<div>\n",
       "<style scoped>\n",
       "    .dataframe tbody tr th:only-of-type {\n",
       "        vertical-align: middle;\n",
       "    }\n",
       "\n",
       "    .dataframe tbody tr th {\n",
       "        vertical-align: top;\n",
       "    }\n",
       "\n",
       "    .dataframe thead th {\n",
       "        text-align: right;\n",
       "    }\n",
       "</style>\n",
       "<table border=\"1\" class=\"dataframe\">\n",
       "  <thead>\n",
       "    <tr style=\"text-align: right;\">\n",
       "      <th></th>\n",
       "      <th>product_code</th>\n",
       "      <th>customer_code</th>\n",
       "      <th>market_code</th>\n",
       "      <th>order_date</th>\n",
       "      <th>sales_qty</th>\n",
       "      <th>sales_amount</th>\n",
       "      <th>currency</th>\n",
       "      <th>product_price</th>\n",
       "      <th>profit_percentage</th>\n",
       "      <th>original_price</th>\n",
       "      <th>profit</th>\n",
       "      <th>total_profit</th>\n",
       "    </tr>\n",
       "  </thead>\n",
       "  <tbody>\n",
       "    <tr>\n",
       "      <th>0</th>\n",
       "      <td>Prod001</td>\n",
       "      <td>Cus001</td>\n",
       "      <td>Mark001</td>\n",
       "      <td>2017-10-10</td>\n",
       "      <td>100</td>\n",
       "      <td>41241.00</td>\n",
       "      <td>INR</td>\n",
       "      <td>412.41</td>\n",
       "      <td>11</td>\n",
       "      <td>367.04</td>\n",
       "      <td>45.37</td>\n",
       "      <td>4536.51</td>\n",
       "    </tr>\n",
       "    <tr>\n",
       "      <th>2</th>\n",
       "      <td>Prod002</td>\n",
       "      <td>Cus003</td>\n",
       "      <td>Mark003</td>\n",
       "      <td>2018-04-06</td>\n",
       "      <td>1</td>\n",
       "      <td>875.00</td>\n",
       "      <td>INR</td>\n",
       "      <td>875.00</td>\n",
       "      <td>13</td>\n",
       "      <td>761.25</td>\n",
       "      <td>113.75</td>\n",
       "      <td>113.75</td>\n",
       "    </tr>\n",
       "    <tr>\n",
       "      <th>3</th>\n",
       "      <td>Prod002</td>\n",
       "      <td>Cus003</td>\n",
       "      <td>Mark003</td>\n",
       "      <td>2018-04-11</td>\n",
       "      <td>1</td>\n",
       "      <td>583.00</td>\n",
       "      <td>INR</td>\n",
       "      <td>583.00</td>\n",
       "      <td>13</td>\n",
       "      <td>507.21</td>\n",
       "      <td>75.79</td>\n",
       "      <td>75.79</td>\n",
       "    </tr>\n",
       "    <tr>\n",
       "      <th>4</th>\n",
       "      <td>Prod002</td>\n",
       "      <td>Cus004</td>\n",
       "      <td>Mark003</td>\n",
       "      <td>2018-06-18</td>\n",
       "      <td>6</td>\n",
       "      <td>7176.00</td>\n",
       "      <td>INR</td>\n",
       "      <td>1196.00</td>\n",
       "      <td>15</td>\n",
       "      <td>1016.60</td>\n",
       "      <td>179.40</td>\n",
       "      <td>1076.40</td>\n",
       "    </tr>\n",
       "    <tr>\n",
       "      <th>5</th>\n",
       "      <td>Prod003</td>\n",
       "      <td>Cus005</td>\n",
       "      <td>Mark004</td>\n",
       "      <td>2017-11-20</td>\n",
       "      <td>59</td>\n",
       "      <td>37500.00</td>\n",
       "      <td>INR</td>\n",
       "      <td>635.59</td>\n",
       "      <td>13</td>\n",
       "      <td>552.97</td>\n",
       "      <td>82.63</td>\n",
       "      <td>4875.00</td>\n",
       "    </tr>\n",
       "  </tbody>\n",
       "</table>\n",
       "</div>"
      ],
      "text/plain": [
       "  product_code customer_code market_code  order_date  sales_qty  sales_amount  \\\n",
       "0      Prod001        Cus001     Mark001  2017-10-10        100      41241.00   \n",
       "2      Prod002        Cus003     Mark003  2018-04-06          1        875.00   \n",
       "3      Prod002        Cus003     Mark003  2018-04-11          1        583.00   \n",
       "4      Prod002        Cus004     Mark003  2018-06-18          6       7176.00   \n",
       "5      Prod003        Cus005     Mark004  2017-11-20         59      37500.00   \n",
       "\n",
       "  currency  product_price  profit_percentage  original_price  profit  \\\n",
       "0      INR         412.41                 11          367.04   45.37   \n",
       "2      INR         875.00                 13          761.25  113.75   \n",
       "3      INR         583.00                 13          507.21   75.79   \n",
       "4      INR        1196.00                 15         1016.60  179.40   \n",
       "5      INR         635.59                 13          552.97   82.63   \n",
       "\n",
       "   total_profit  \n",
       "0       4536.51  \n",
       "2        113.75  \n",
       "3         75.79  \n",
       "4       1076.40  \n",
       "5       4875.00  "
      ]
     },
     "execution_count": 76,
     "metadata": {},
     "output_type": "execute_result"
    }
   ],
   "source": [
    "transactions.head(5)"
   ]
  },
  {
   "cell_type": "markdown",
   "id": "cbfa215e-b4a8-4343-a2a7-565373c7b86b",
   "metadata": {},
   "source": [
    "## Adding column total_cost "
   ]
  },
  {
   "cell_type": "code",
   "execution_count": 77,
   "id": "ccb26fc2-5ba1-48cf-94d2-694c384e797a",
   "metadata": {},
   "outputs": [],
   "source": [
    "transactions['total_cost'] = (transactions['sales_amount'])-(transactions['total_profit'])"
   ]
  },
  {
   "cell_type": "code",
   "execution_count": 68,
   "id": "97726102-827e-4bda-a4c4-90d01ce7aec8",
   "metadata": {},
   "outputs": [
    {
     "data": {
      "text/html": [
       "<div>\n",
       "<style scoped>\n",
       "    .dataframe tbody tr th:only-of-type {\n",
       "        vertical-align: middle;\n",
       "    }\n",
       "\n",
       "    .dataframe tbody tr th {\n",
       "        vertical-align: top;\n",
       "    }\n",
       "\n",
       "    .dataframe thead th {\n",
       "        text-align: right;\n",
       "    }\n",
       "</style>\n",
       "<table border=\"1\" class=\"dataframe\">\n",
       "  <thead>\n",
       "    <tr style=\"text-align: right;\">\n",
       "      <th></th>\n",
       "      <th>product_code</th>\n",
       "      <th>customer_code</th>\n",
       "      <th>market_code</th>\n",
       "      <th>order_date</th>\n",
       "      <th>sales_qty</th>\n",
       "      <th>sales_amount</th>\n",
       "      <th>currency</th>\n",
       "      <th>product_price</th>\n",
       "      <th>profit_percentage</th>\n",
       "      <th>original_price</th>\n",
       "      <th>profit</th>\n",
       "    </tr>\n",
       "  </thead>\n",
       "  <tbody>\n",
       "    <tr>\n",
       "      <th>0</th>\n",
       "      <td>Prod001</td>\n",
       "      <td>Cus001</td>\n",
       "      <td>Mark001</td>\n",
       "      <td>2017-10-10</td>\n",
       "      <td>100</td>\n",
       "      <td>41241.00</td>\n",
       "      <td>INR</td>\n",
       "      <td>412.41</td>\n",
       "      <td>11</td>\n",
       "      <td>367.04</td>\n",
       "      <td>45.37</td>\n",
       "    </tr>\n",
       "    <tr>\n",
       "      <th>2</th>\n",
       "      <td>Prod002</td>\n",
       "      <td>Cus003</td>\n",
       "      <td>Mark003</td>\n",
       "      <td>2018-04-06</td>\n",
       "      <td>1</td>\n",
       "      <td>875.00</td>\n",
       "      <td>INR</td>\n",
       "      <td>875.00</td>\n",
       "      <td>13</td>\n",
       "      <td>761.25</td>\n",
       "      <td>113.75</td>\n",
       "    </tr>\n",
       "    <tr>\n",
       "      <th>3</th>\n",
       "      <td>Prod002</td>\n",
       "      <td>Cus003</td>\n",
       "      <td>Mark003</td>\n",
       "      <td>2018-04-11</td>\n",
       "      <td>1</td>\n",
       "      <td>583.00</td>\n",
       "      <td>INR</td>\n",
       "      <td>583.00</td>\n",
       "      <td>13</td>\n",
       "      <td>507.21</td>\n",
       "      <td>75.79</td>\n",
       "    </tr>\n",
       "    <tr>\n",
       "      <th>4</th>\n",
       "      <td>Prod002</td>\n",
       "      <td>Cus004</td>\n",
       "      <td>Mark003</td>\n",
       "      <td>2018-06-18</td>\n",
       "      <td>6</td>\n",
       "      <td>7176.00</td>\n",
       "      <td>INR</td>\n",
       "      <td>1196.00</td>\n",
       "      <td>15</td>\n",
       "      <td>1016.60</td>\n",
       "      <td>179.40</td>\n",
       "    </tr>\n",
       "    <tr>\n",
       "      <th>5</th>\n",
       "      <td>Prod003</td>\n",
       "      <td>Cus005</td>\n",
       "      <td>Mark004</td>\n",
       "      <td>2017-11-20</td>\n",
       "      <td>59</td>\n",
       "      <td>37500.00</td>\n",
       "      <td>INR</td>\n",
       "      <td>635.59</td>\n",
       "      <td>13</td>\n",
       "      <td>552.97</td>\n",
       "      <td>82.63</td>\n",
       "    </tr>\n",
       "  </tbody>\n",
       "</table>\n",
       "</div>"
      ],
      "text/plain": [
       "  product_code customer_code market_code  order_date  sales_qty  sales_amount  \\\n",
       "0      Prod001        Cus001     Mark001  2017-10-10        100      41241.00   \n",
       "2      Prod002        Cus003     Mark003  2018-04-06          1        875.00   \n",
       "3      Prod002        Cus003     Mark003  2018-04-11          1        583.00   \n",
       "4      Prod002        Cus004     Mark003  2018-06-18          6       7176.00   \n",
       "5      Prod003        Cus005     Mark004  2017-11-20         59      37500.00   \n",
       "\n",
       "  currency  product_price  profit_percentage  original_price  profit  \n",
       "0      INR         412.41                 11          367.04   45.37  \n",
       "2      INR         875.00                 13          761.25  113.75  \n",
       "3      INR         583.00                 13          507.21   75.79  \n",
       "4      INR        1196.00                 15         1016.60  179.40  \n",
       "5      INR         635.59                 13          552.97   82.63  "
      ]
     },
     "execution_count": 68,
     "metadata": {},
     "output_type": "execute_result"
    }
   ],
   "source": [
    "transactions.head(5)"
   ]
  },
  {
   "cell_type": "markdown",
   "id": "b2e13e1f-c0ae-438d-8de5-b363825f357a",
   "metadata": {},
   "source": [
    "## Verifying values"
   ]
  },
  {
   "cell_type": "code",
   "execution_count": 78,
   "id": "993b4a88-6563-44a2-8c5d-957482ddf6c1",
   "metadata": {},
   "outputs": [
    {
     "data": {
      "text/plain": [
       "np.float64(986676768.0)"
      ]
     },
     "execution_count": 78,
     "metadata": {},
     "output_type": "execute_result"
    }
   ],
   "source": [
    "transactions['sales_amount'].sum()"
   ]
  },
  {
   "cell_type": "code",
   "execution_count": 79,
   "id": "be94e8a9-ed68-4dca-affa-67529088f937",
   "metadata": {},
   "outputs": [
    {
     "data": {
      "text/plain": [
       "np.float64(849375728.9)"
      ]
     },
     "execution_count": 79,
     "metadata": {},
     "output_type": "execute_result"
    }
   ],
   "source": [
    "transactions['total_cost'].sum()"
   ]
  },
  {
   "cell_type": "code",
   "execution_count": 80,
   "id": "546127b1-f809-4db9-9846-7c327eb54b50",
   "metadata": {},
   "outputs": [
    {
     "data": {
      "text/plain": [
       "np.float64(137301039.1)"
      ]
     },
     "execution_count": 80,
     "metadata": {},
     "output_type": "execute_result"
    }
   ],
   "source": [
    "transactions['total_profit'].sum()"
   ]
  },
  {
   "cell_type": "code",
   "execution_count": 81,
   "id": "acb42479-b76b-4c38-9304-e844c9d57894",
   "metadata": {},
   "outputs": [
    {
     "data": {
      "text/plain": [
       "np.float64(0.0)"
      ]
     },
     "execution_count": 81,
     "metadata": {},
     "output_type": "execute_result"
    }
   ],
   "source": [
    "(transactions['total_cost'].sum() + transactions['total_profit'].sum()) - transactions['sales_amount'].sum()"
   ]
  },
  {
   "cell_type": "code",
   "execution_count": 82,
   "id": "9318e309-b5ba-48a9-8582-98dda6f5da1d",
   "metadata": {},
   "outputs": [
    {
     "data": {
      "text/plain": [
       "(148672, 13)"
      ]
     },
     "execution_count": 82,
     "metadata": {},
     "output_type": "execute_result"
    }
   ],
   "source": [
    "transactions.shape"
   ]
  },
  {
   "cell_type": "markdown",
   "id": "e917ab02-3b10-42e7-9200-7f45b7a8cec8",
   "metadata": {},
   "source": [
    "## Products"
   ]
  },
  {
   "cell_type": "code",
   "execution_count": 83,
   "id": "127f8a29-3f3c-40e4-962b-6be476f4f92c",
   "metadata": {},
   "outputs": [
    {
     "data": {
      "text/html": [
       "<div>\n",
       "<style scoped>\n",
       "    .dataframe tbody tr th:only-of-type {\n",
       "        vertical-align: middle;\n",
       "    }\n",
       "\n",
       "    .dataframe tbody tr th {\n",
       "        vertical-align: top;\n",
       "    }\n",
       "\n",
       "    .dataframe thead th {\n",
       "        text-align: right;\n",
       "    }\n",
       "</style>\n",
       "<table border=\"1\" class=\"dataframe\">\n",
       "  <thead>\n",
       "    <tr style=\"text-align: right;\">\n",
       "      <th></th>\n",
       "      <th>product_code</th>\n",
       "      <th>product_type</th>\n",
       "    </tr>\n",
       "  </thead>\n",
       "  <tbody>\n",
       "    <tr>\n",
       "      <th>0</th>\n",
       "      <td>Prod001</td>\n",
       "      <td>Own Brand</td>\n",
       "    </tr>\n",
       "    <tr>\n",
       "      <th>1</th>\n",
       "      <td>Prod002</td>\n",
       "      <td>Own Brand</td>\n",
       "    </tr>\n",
       "    <tr>\n",
       "      <th>2</th>\n",
       "      <td>Prod003</td>\n",
       "      <td>Own Brand</td>\n",
       "    </tr>\n",
       "    <tr>\n",
       "      <th>3</th>\n",
       "      <td>Prod004</td>\n",
       "      <td>Own Brand</td>\n",
       "    </tr>\n",
       "    <tr>\n",
       "      <th>4</th>\n",
       "      <td>Prod005</td>\n",
       "      <td>Own Brand</td>\n",
       "    </tr>\n",
       "  </tbody>\n",
       "</table>\n",
       "</div>"
      ],
      "text/plain": [
       "  product_code product_type\n",
       "0      Prod001    Own Brand\n",
       "1      Prod002    Own Brand\n",
       "2      Prod003    Own Brand\n",
       "3      Prod004    Own Brand\n",
       "4      Prod005    Own Brand"
      ]
     },
     "execution_count": 83,
     "metadata": {},
     "output_type": "execute_result"
    }
   ],
   "source": [
    "products.head(5)"
   ]
  },
  {
   "cell_type": "code",
   "execution_count": 84,
   "id": "d3732cda-41de-41d5-bd52-39387263fcbe",
   "metadata": {},
   "outputs": [
    {
     "data": {
      "text/plain": [
       "array(['Own Brand', 'Distribution'], dtype=object)"
      ]
     },
     "execution_count": 84,
     "metadata": {},
     "output_type": "execute_result"
    }
   ],
   "source": [
    "products['product_type'].unique()"
   ]
  },
  {
   "cell_type": "code",
   "execution_count": 85,
   "id": "31c9936c-a80a-4dc4-aed8-b306124ebee5",
   "metadata": {},
   "outputs": [
    {
     "data": {
      "text/plain": [
       "279"
      ]
     },
     "execution_count": 85,
     "metadata": {},
     "output_type": "execute_result"
    }
   ],
   "source": [
    "products['product_code'].nunique()"
   ]
  },
  {
   "cell_type": "code",
   "execution_count": 86,
   "id": "47517b7d-9ecf-4838-9f04-edfb3e67bde5",
   "metadata": {},
   "outputs": [
    {
     "data": {
      "text/plain": [
       "191"
      ]
     },
     "execution_count": 86,
     "metadata": {},
     "output_type": "execute_result"
    }
   ],
   "source": [
    "len(products[products['product_type'] == 'Own Brand'])"
   ]
  },
  {
   "cell_type": "code",
   "execution_count": 87,
   "id": "5684f7fd-21f4-410d-bfbf-91c832371af9",
   "metadata": {},
   "outputs": [
    {
     "data": {
      "text/plain": [
       "88"
      ]
     },
     "execution_count": 87,
     "metadata": {},
     "output_type": "execute_result"
    }
   ],
   "source": [
    "len(products[products['product_type'] == 'Distribution'])"
   ]
  },
  {
   "cell_type": "code",
   "execution_count": 88,
   "id": "559c8f28-be8f-4eaf-87c2-1f8d84427858",
   "metadata": {},
   "outputs": [
    {
     "data": {
      "text/plain": [
       "338"
      ]
     },
     "execution_count": 88,
     "metadata": {},
     "output_type": "execute_result"
    }
   ],
   "source": [
    "transactions['product_code'].nunique()"
   ]
  },
  {
   "cell_type": "code",
   "execution_count": 89,
   "id": "97b6d0d8-ea86-47fe-9511-ef8dd3b33539",
   "metadata": {},
   "outputs": [],
   "source": [
    "prod_code1 = pd.Series(products['product_code'].unique())"
   ]
  },
  {
   "cell_type": "code",
   "execution_count": 90,
   "id": "45fe8255-d4d8-4881-be88-ad373fc7185f",
   "metadata": {},
   "outputs": [],
   "source": [
    "prod_code2 = pd.Series(transactions['product_code'].unique())"
   ]
  },
  {
   "cell_type": "code",
   "execution_count": 91,
   "id": "226f7608-9503-4aba-b9e7-99ed790125dd",
   "metadata": {},
   "outputs": [
    {
     "data": {
      "text/plain": [
       "274    Prod275\n",
       "275    Prod276\n",
       "276    Prod277\n",
       "277    Prod278\n",
       "278    Prod279\n",
       "dtype: object"
      ]
     },
     "execution_count": 91,
     "metadata": {},
     "output_type": "execute_result"
    }
   ],
   "source": [
    "prod_code1.tail()"
   ]
  },
  {
   "cell_type": "code",
   "execution_count": 92,
   "id": "cc65a0dc-7daf-4a10-a19f-a8c3bb9a685f",
   "metadata": {},
   "outputs": [
    {
     "data": {
      "text/plain": [
       "333    Prod335\n",
       "334    Prod336\n",
       "335    Prod337\n",
       "336    Prod338\n",
       "337    Prod339\n",
       "dtype: object"
      ]
     },
     "execution_count": 92,
     "metadata": {},
     "output_type": "execute_result"
    }
   ],
   "source": [
    "prod_code2.tail()"
   ]
  },
  {
   "cell_type": "code",
   "execution_count": 103,
   "id": "39294e2d-2755-4726-9071-03a97698f2d6",
   "metadata": {},
   "outputs": [],
   "source": [
    "for x in range(279, 338, 1):\n",
    "    new_row = pd.DataFrame([{'product_code':prod_code2[x],'product_type':'own brand'}])\n",
    "    products = pd.concat([products,new_row],ignore_index=True)"
   ]
  },
  {
   "cell_type": "code",
   "execution_count": 104,
   "id": "03ebe733-be31-425e-9234-034d5c4c3986",
   "metadata": {},
   "outputs": [
    {
     "data": {
      "text/plain": [
       "338"
      ]
     },
     "execution_count": 104,
     "metadata": {},
     "output_type": "execute_result"
    }
   ],
   "source": [
    "products['product_code'].nunique()"
   ]
  },
  {
   "cell_type": "code",
   "execution_count": 105,
   "id": "49976e5d-7061-408b-b355-64672ac4908f",
   "metadata": {},
   "outputs": [
    {
     "data": {
      "text/html": [
       "<div>\n",
       "<style scoped>\n",
       "    .dataframe tbody tr th:only-of-type {\n",
       "        vertical-align: middle;\n",
       "    }\n",
       "\n",
       "    .dataframe tbody tr th {\n",
       "        vertical-align: top;\n",
       "    }\n",
       "\n",
       "    .dataframe thead th {\n",
       "        text-align: right;\n",
       "    }\n",
       "</style>\n",
       "<table border=\"1\" class=\"dataframe\">\n",
       "  <thead>\n",
       "    <tr style=\"text-align: right;\">\n",
       "      <th></th>\n",
       "      <th>product_code</th>\n",
       "      <th>product_type</th>\n",
       "    </tr>\n",
       "  </thead>\n",
       "  <tbody>\n",
       "    <tr>\n",
       "      <th>333</th>\n",
       "      <td>Prod335</td>\n",
       "      <td>own brand</td>\n",
       "    </tr>\n",
       "    <tr>\n",
       "      <th>334</th>\n",
       "      <td>Prod336</td>\n",
       "      <td>own brand</td>\n",
       "    </tr>\n",
       "    <tr>\n",
       "      <th>335</th>\n",
       "      <td>Prod337</td>\n",
       "      <td>own brand</td>\n",
       "    </tr>\n",
       "    <tr>\n",
       "      <th>336</th>\n",
       "      <td>Prod338</td>\n",
       "      <td>own brand</td>\n",
       "    </tr>\n",
       "    <tr>\n",
       "      <th>337</th>\n",
       "      <td>Prod339</td>\n",
       "      <td>own brand</td>\n",
       "    </tr>\n",
       "  </tbody>\n",
       "</table>\n",
       "</div>"
      ],
      "text/plain": [
       "    product_code product_type\n",
       "333      Prod335    own brand\n",
       "334      Prod336    own brand\n",
       "335      Prod337    own brand\n",
       "336      Prod338    own brand\n",
       "337      Prod339    own brand"
      ]
     },
     "execution_count": 105,
     "metadata": {},
     "output_type": "execute_result"
    }
   ],
   "source": [
    "products.tail()"
   ]
  },
  {
   "cell_type": "code",
   "execution_count": 106,
   "id": "f174cad3-6754-43c8-936c-b1d9594e8925",
   "metadata": {},
   "outputs": [
    {
     "data": {
      "text/plain": [
       "(148672, 13)"
      ]
     },
     "execution_count": 106,
     "metadata": {},
     "output_type": "execute_result"
    }
   ],
   "source": [
    "transactions.shape"
   ]
  },
  {
   "cell_type": "code",
   "execution_count": 107,
   "id": "ec1527b9-3dae-4ce6-ab5f-741bd24218d0",
   "metadata": {},
   "outputs": [],
   "source": [
    "transactions2 = pd.merge(transactions, products, how='inner', on='product_code')"
   ]
  },
  {
   "cell_type": "code",
   "execution_count": 109,
   "id": "44506289-ed4d-4a92-a931-1c3167607768",
   "metadata": {},
   "outputs": [
    {
     "data": {
      "text/html": [
       "<div>\n",
       "<style scoped>\n",
       "    .dataframe tbody tr th:only-of-type {\n",
       "        vertical-align: middle;\n",
       "    }\n",
       "\n",
       "    .dataframe tbody tr th {\n",
       "        vertical-align: top;\n",
       "    }\n",
       "\n",
       "    .dataframe thead th {\n",
       "        text-align: right;\n",
       "    }\n",
       "</style>\n",
       "<table border=\"1\" class=\"dataframe\">\n",
       "  <thead>\n",
       "    <tr style=\"text-align: right;\">\n",
       "      <th></th>\n",
       "      <th>product_code</th>\n",
       "      <th>customer_code</th>\n",
       "      <th>market_code</th>\n",
       "      <th>order_date</th>\n",
       "      <th>sales_qty</th>\n",
       "      <th>sales_amount</th>\n",
       "      <th>currency</th>\n",
       "      <th>product_price</th>\n",
       "      <th>profit_percentage</th>\n",
       "      <th>original_price</th>\n",
       "      <th>profit</th>\n",
       "      <th>total_profit</th>\n",
       "      <th>total_cost</th>\n",
       "      <th>product_type</th>\n",
       "    </tr>\n",
       "  </thead>\n",
       "  <tbody>\n",
       "    <tr>\n",
       "      <th>21487</th>\n",
       "      <td>Prod090</td>\n",
       "      <td>Cus001</td>\n",
       "      <td>Mark010</td>\n",
       "      <td>2019-02-27</td>\n",
       "      <td>33</td>\n",
       "      <td>2014.00</td>\n",
       "      <td>INR</td>\n",
       "      <td>61.03</td>\n",
       "      <td>8</td>\n",
       "      <td>56.15</td>\n",
       "      <td>4.88</td>\n",
       "      <td>161.12</td>\n",
       "      <td>1852.88</td>\n",
       "      <td>Own Brand</td>\n",
       "    </tr>\n",
       "    <tr>\n",
       "      <th>16849</th>\n",
       "      <td>Prod065</td>\n",
       "      <td>Cus017</td>\n",
       "      <td>Mark007</td>\n",
       "      <td>2017-10-17</td>\n",
       "      <td>32</td>\n",
       "      <td>3866.00</td>\n",
       "      <td>INR</td>\n",
       "      <td>120.81</td>\n",
       "      <td>11</td>\n",
       "      <td>107.52</td>\n",
       "      <td>13.29</td>\n",
       "      <td>425.26</td>\n",
       "      <td>3440.74</td>\n",
       "      <td>Own Brand</td>\n",
       "    </tr>\n",
       "    <tr>\n",
       "      <th>83284</th>\n",
       "      <td>Prod269</td>\n",
       "      <td>Cus021</td>\n",
       "      <td>Mark011</td>\n",
       "      <td>2020-03-12</td>\n",
       "      <td>1</td>\n",
       "      <td>102.00</td>\n",
       "      <td>INR</td>\n",
       "      <td>102.00</td>\n",
       "      <td>11</td>\n",
       "      <td>90.78</td>\n",
       "      <td>11.22</td>\n",
       "      <td>11.22</td>\n",
       "      <td>90.78</td>\n",
       "      <td>Own Brand</td>\n",
       "    </tr>\n",
       "    <tr>\n",
       "      <th>72090</th>\n",
       "      <td>Prod252</td>\n",
       "      <td>Cus006</td>\n",
       "      <td>Mark004</td>\n",
       "      <td>2018-06-20</td>\n",
       "      <td>50</td>\n",
       "      <td>13056.00</td>\n",
       "      <td>INR</td>\n",
       "      <td>261.12</td>\n",
       "      <td>11</td>\n",
       "      <td>232.40</td>\n",
       "      <td>28.72</td>\n",
       "      <td>1436.16</td>\n",
       "      <td>11619.84</td>\n",
       "      <td>Distribution</td>\n",
       "    </tr>\n",
       "    <tr>\n",
       "      <th>14851</th>\n",
       "      <td>Prod060</td>\n",
       "      <td>Cus003</td>\n",
       "      <td>Mark003</td>\n",
       "      <td>2018-05-04</td>\n",
       "      <td>85</td>\n",
       "      <td>36421.00</td>\n",
       "      <td>INR</td>\n",
       "      <td>428.48</td>\n",
       "      <td>11</td>\n",
       "      <td>381.35</td>\n",
       "      <td>47.13</td>\n",
       "      <td>4006.31</td>\n",
       "      <td>32414.69</td>\n",
       "      <td>Own Brand</td>\n",
       "    </tr>\n",
       "  </tbody>\n",
       "</table>\n",
       "</div>"
      ],
      "text/plain": [
       "      product_code customer_code market_code  order_date  sales_qty  \\\n",
       "21487      Prod090        Cus001     Mark010  2019-02-27         33   \n",
       "16849      Prod065        Cus017     Mark007  2017-10-17         32   \n",
       "83284      Prod269        Cus021     Mark011  2020-03-12          1   \n",
       "72090      Prod252        Cus006     Mark004  2018-06-20         50   \n",
       "14851      Prod060        Cus003     Mark003  2018-05-04         85   \n",
       "\n",
       "       sales_amount currency  product_price  profit_percentage  \\\n",
       "21487       2014.00      INR          61.03                  8   \n",
       "16849       3866.00      INR         120.81                 11   \n",
       "83284        102.00      INR         102.00                 11   \n",
       "72090      13056.00      INR         261.12                 11   \n",
       "14851      36421.00      INR         428.48                 11   \n",
       "\n",
       "       original_price  profit  total_profit  total_cost  product_type  \n",
       "21487           56.15    4.88        161.12     1852.88     Own Brand  \n",
       "16849          107.52   13.29        425.26     3440.74     Own Brand  \n",
       "83284           90.78   11.22         11.22       90.78     Own Brand  \n",
       "72090          232.40   28.72       1436.16    11619.84  Distribution  \n",
       "14851          381.35   47.13       4006.31    32414.69     Own Brand  "
      ]
     },
     "execution_count": 109,
     "metadata": {},
     "output_type": "execute_result"
    }
   ],
   "source": [
    "transactions2.sample(5)"
   ]
  },
  {
   "cell_type": "code",
   "execution_count": 110,
   "id": "1121df25-e73d-4057-afe8-0a0db00ef458",
   "metadata": {},
   "outputs": [
    {
     "data": {
      "text/plain": [
       "(148672, 14)"
      ]
     },
     "execution_count": 110,
     "metadata": {},
     "output_type": "execute_result"
    }
   ],
   "source": [
    "transactions2.shape"
   ]
  },
  {
   "cell_type": "markdown",
   "id": "022c4684-0b58-409a-af77-3967795f3e78",
   "metadata": {},
   "source": [
    "## Customers "
   ]
  },
  {
   "cell_type": "code",
   "execution_count": 111,
   "id": "9d98c81d-0dd7-439e-a306-c3210bf43d08",
   "metadata": {},
   "outputs": [
    {
     "data": {
      "text/html": [
       "<div>\n",
       "<style scoped>\n",
       "    .dataframe tbody tr th:only-of-type {\n",
       "        vertical-align: middle;\n",
       "    }\n",
       "\n",
       "    .dataframe tbody tr th {\n",
       "        vertical-align: top;\n",
       "    }\n",
       "\n",
       "    .dataframe thead th {\n",
       "        text-align: right;\n",
       "    }\n",
       "</style>\n",
       "<table border=\"1\" class=\"dataframe\">\n",
       "  <thead>\n",
       "    <tr style=\"text-align: right;\">\n",
       "      <th></th>\n",
       "      <th>customer_code</th>\n",
       "      <th>custmer_name</th>\n",
       "      <th>customer_type</th>\n",
       "    </tr>\n",
       "  </thead>\n",
       "  <tbody>\n",
       "    <tr>\n",
       "      <th>0</th>\n",
       "      <td>Cus001</td>\n",
       "      <td>Surge Stores</td>\n",
       "      <td>Brick &amp; Mortar</td>\n",
       "    </tr>\n",
       "    <tr>\n",
       "      <th>1</th>\n",
       "      <td>Cus002</td>\n",
       "      <td>Nomad Stores</td>\n",
       "      <td>Brick &amp; Mortar</td>\n",
       "    </tr>\n",
       "    <tr>\n",
       "      <th>2</th>\n",
       "      <td>Cus003</td>\n",
       "      <td>Excel Stores</td>\n",
       "      <td>Brick &amp; Mortar</td>\n",
       "    </tr>\n",
       "    <tr>\n",
       "      <th>3</th>\n",
       "      <td>Cus004</td>\n",
       "      <td>Surface Stores</td>\n",
       "      <td>Brick &amp; Mortar</td>\n",
       "    </tr>\n",
       "    <tr>\n",
       "      <th>4</th>\n",
       "      <td>Cus005</td>\n",
       "      <td>Premium Stores</td>\n",
       "      <td>Brick &amp; Mortar</td>\n",
       "    </tr>\n",
       "  </tbody>\n",
       "</table>\n",
       "</div>"
      ],
      "text/plain": [
       "  customer_code    custmer_name   customer_type\n",
       "0        Cus001    Surge Stores  Brick & Mortar\n",
       "1        Cus002    Nomad Stores  Brick & Mortar\n",
       "2        Cus003    Excel Stores  Brick & Mortar\n",
       "3        Cus004  Surface Stores  Brick & Mortar\n",
       "4        Cus005  Premium Stores  Brick & Mortar"
      ]
     },
     "execution_count": 111,
     "metadata": {},
     "output_type": "execute_result"
    }
   ],
   "source": [
    "customers.head(5)"
   ]
  },
  {
   "cell_type": "code",
   "execution_count": 112,
   "id": "e5b723f9-946c-47f7-8adb-11db44f28aa8",
   "metadata": {},
   "outputs": [
    {
     "data": {
      "text/plain": [
       "array(['Brick & Mortar', 'E-Commerce'], dtype=object)"
      ]
     },
     "execution_count": 112,
     "metadata": {},
     "output_type": "execute_result"
    }
   ],
   "source": [
    "customers['customer_type'].unique()"
   ]
  },
  {
   "cell_type": "code",
   "execution_count": 113,
   "id": "7222cbc9-ac35-4c15-a259-229816ecd5b3",
   "metadata": {},
   "outputs": [
    {
     "data": {
      "text/plain": [
       "2"
      ]
     },
     "execution_count": 113,
     "metadata": {},
     "output_type": "execute_result"
    }
   ],
   "source": [
    "customers['customer_type'].nunique()"
   ]
  },
  {
   "cell_type": "code",
   "execution_count": 114,
   "id": "c54d85fa-1736-4df9-9533-ce026f30952e",
   "metadata": {},
   "outputs": [
    {
     "data": {
      "text/plain": [
       "38"
      ]
     },
     "execution_count": 114,
     "metadata": {},
     "output_type": "execute_result"
    }
   ],
   "source": [
    "customers['customer_code'].nunique()"
   ]
  },
  {
   "cell_type": "code",
   "execution_count": 115,
   "id": "15adae1e-9730-4b10-a8ba-fe8befd8b6d1",
   "metadata": {},
   "outputs": [
    {
     "data": {
      "text/plain": [
       "(148672, 14)"
      ]
     },
     "execution_count": 115,
     "metadata": {},
     "output_type": "execute_result"
    }
   ],
   "source": [
    "transactions2.shape"
   ]
  },
  {
   "cell_type": "code",
   "execution_count": 116,
   "id": "835c9ee9-0cc5-4448-8c13-ab717b9b1f89",
   "metadata": {},
   "outputs": [],
   "source": [
    "transactions3 = pd.merge(transactions2, customers, how='inner', on='customer_code')"
   ]
  },
  {
   "cell_type": "code",
   "execution_count": 117,
   "id": "eb2537a2-b1cd-4297-b1a8-993c98fb6148",
   "metadata": {},
   "outputs": [
    {
     "data": {
      "text/html": [
       "<div>\n",
       "<style scoped>\n",
       "    .dataframe tbody tr th:only-of-type {\n",
       "        vertical-align: middle;\n",
       "    }\n",
       "\n",
       "    .dataframe tbody tr th {\n",
       "        vertical-align: top;\n",
       "    }\n",
       "\n",
       "    .dataframe thead th {\n",
       "        text-align: right;\n",
       "    }\n",
       "</style>\n",
       "<table border=\"1\" class=\"dataframe\">\n",
       "  <thead>\n",
       "    <tr style=\"text-align: right;\">\n",
       "      <th></th>\n",
       "      <th>product_code</th>\n",
       "      <th>customer_code</th>\n",
       "      <th>market_code</th>\n",
       "      <th>order_date</th>\n",
       "      <th>sales_qty</th>\n",
       "      <th>sales_amount</th>\n",
       "      <th>currency</th>\n",
       "      <th>product_price</th>\n",
       "      <th>profit_percentage</th>\n",
       "      <th>original_price</th>\n",
       "      <th>profit</th>\n",
       "      <th>total_profit</th>\n",
       "      <th>total_cost</th>\n",
       "      <th>product_type</th>\n",
       "      <th>custmer_name</th>\n",
       "      <th>customer_type</th>\n",
       "    </tr>\n",
       "  </thead>\n",
       "  <tbody>\n",
       "    <tr>\n",
       "      <th>134931</th>\n",
       "      <td>Prod318</td>\n",
       "      <td>Cus003</td>\n",
       "      <td>Mark003</td>\n",
       "      <td>2018-08-31</td>\n",
       "      <td>2</td>\n",
       "      <td>2657.00</td>\n",
       "      <td>INR</td>\n",
       "      <td>1328.50</td>\n",
       "      <td>15</td>\n",
       "      <td>1129.22</td>\n",
       "      <td>199.28</td>\n",
       "      <td>398.55</td>\n",
       "      <td>2258.45</td>\n",
       "      <td>own brand</td>\n",
       "      <td>Excel Stores</td>\n",
       "      <td>Brick &amp; Mortar</td>\n",
       "    </tr>\n",
       "    <tr>\n",
       "      <th>76663</th>\n",
       "      <td>Prod263</td>\n",
       "      <td>Cus020</td>\n",
       "      <td>Mark011</td>\n",
       "      <td>2019-04-04</td>\n",
       "      <td>1</td>\n",
       "      <td>69.00</td>\n",
       "      <td>INR</td>\n",
       "      <td>69.00</td>\n",
       "      <td>8</td>\n",
       "      <td>63.48</td>\n",
       "      <td>5.52</td>\n",
       "      <td>5.52</td>\n",
       "      <td>63.48</td>\n",
       "      <td>Distribution</td>\n",
       "      <td>Nixon</td>\n",
       "      <td>E-Commerce</td>\n",
       "    </tr>\n",
       "    <tr>\n",
       "      <th>104209</th>\n",
       "      <td>Prod288</td>\n",
       "      <td>Cus007</td>\n",
       "      <td>Mark004</td>\n",
       "      <td>2018-06-11</td>\n",
       "      <td>1</td>\n",
       "      <td>106.00</td>\n",
       "      <td>INR</td>\n",
       "      <td>106.00</td>\n",
       "      <td>11</td>\n",
       "      <td>94.34</td>\n",
       "      <td>11.66</td>\n",
       "      <td>11.66</td>\n",
       "      <td>94.34</td>\n",
       "      <td>own brand</td>\n",
       "      <td>Info Stores</td>\n",
       "      <td>Brick &amp; Mortar</td>\n",
       "    </tr>\n",
       "    <tr>\n",
       "      <th>10716</th>\n",
       "      <td>Prod054</td>\n",
       "      <td>Cus015</td>\n",
       "      <td>Mark007</td>\n",
       "      <td>2020-06-12</td>\n",
       "      <td>3</td>\n",
       "      <td>903.00</td>\n",
       "      <td>INR</td>\n",
       "      <td>301.00</td>\n",
       "      <td>11</td>\n",
       "      <td>267.89</td>\n",
       "      <td>33.11</td>\n",
       "      <td>99.33</td>\n",
       "      <td>803.67</td>\n",
       "      <td>Own Brand</td>\n",
       "      <td>Electricalsbea Stores</td>\n",
       "      <td>Brick &amp; Mortar</td>\n",
       "    </tr>\n",
       "    <tr>\n",
       "      <th>147657</th>\n",
       "      <td>Prod337</td>\n",
       "      <td>Cus035</td>\n",
       "      <td>Mark007</td>\n",
       "      <td>2020-01-09</td>\n",
       "      <td>1</td>\n",
       "      <td>731.00</td>\n",
       "      <td>INR</td>\n",
       "      <td>731.00</td>\n",
       "      <td>13</td>\n",
       "      <td>635.97</td>\n",
       "      <td>95.03</td>\n",
       "      <td>95.03</td>\n",
       "      <td>635.97</td>\n",
       "      <td>own brand</td>\n",
       "      <td>Relief</td>\n",
       "      <td>E-Commerce</td>\n",
       "    </tr>\n",
       "  </tbody>\n",
       "</table>\n",
       "</div>"
      ],
      "text/plain": [
       "       product_code customer_code market_code  order_date  sales_qty  \\\n",
       "134931      Prod318        Cus003     Mark003  2018-08-31          2   \n",
       "76663       Prod263        Cus020     Mark011  2019-04-04          1   \n",
       "104209      Prod288        Cus007     Mark004  2018-06-11          1   \n",
       "10716       Prod054        Cus015     Mark007  2020-06-12          3   \n",
       "147657      Prod337        Cus035     Mark007  2020-01-09          1   \n",
       "\n",
       "        sales_amount currency  product_price  profit_percentage  \\\n",
       "134931       2657.00      INR        1328.50                 15   \n",
       "76663          69.00      INR          69.00                  8   \n",
       "104209        106.00      INR         106.00                 11   \n",
       "10716         903.00      INR         301.00                 11   \n",
       "147657        731.00      INR         731.00                 13   \n",
       "\n",
       "        original_price  profit  total_profit  total_cost  product_type  \\\n",
       "134931         1129.22  199.28        398.55     2258.45     own brand   \n",
       "76663            63.48    5.52          5.52       63.48  Distribution   \n",
       "104209           94.34   11.66         11.66       94.34     own brand   \n",
       "10716           267.89   33.11         99.33      803.67     Own Brand   \n",
       "147657          635.97   95.03         95.03      635.97     own brand   \n",
       "\n",
       "                 custmer_name   customer_type  \n",
       "134931           Excel Stores  Brick & Mortar  \n",
       "76663                   Nixon      E-Commerce  \n",
       "104209            Info Stores  Brick & Mortar  \n",
       "10716   Electricalsbea Stores  Brick & Mortar  \n",
       "147657                 Relief      E-Commerce  "
      ]
     },
     "execution_count": 117,
     "metadata": {},
     "output_type": "execute_result"
    }
   ],
   "source": [
    "transactions3.sample(5)"
   ]
  },
  {
   "cell_type": "code",
   "execution_count": 118,
   "id": "79f89ed2-9b55-4bac-9fd6-60342225b188",
   "metadata": {},
   "outputs": [
    {
     "data": {
      "text/plain": [
       "(148672, 16)"
      ]
     },
     "execution_count": 118,
     "metadata": {},
     "output_type": "execute_result"
    }
   ],
   "source": [
    "transactions3.shape"
   ]
  },
  {
   "cell_type": "markdown",
   "id": "8959fb26-4397-49d4-baf3-3ca0ad33bf82",
   "metadata": {},
   "source": [
    "## Markets "
   ]
  },
  {
   "cell_type": "code",
   "execution_count": 119,
   "id": "621fcaad-ae6f-4049-a0dc-496f3b20d27e",
   "metadata": {},
   "outputs": [
    {
     "data": {
      "text/plain": [
       "Index(['markets_code', 'markets_name', 'zone'], dtype='object')"
      ]
     },
     "execution_count": 119,
     "metadata": {},
     "output_type": "execute_result"
    }
   ],
   "source": [
    "markets.columns"
   ]
  },
  {
   "cell_type": "code",
   "execution_count": 120,
   "id": "3e04774b-b7e6-4a93-9595-9255b254a70a",
   "metadata": {},
   "outputs": [],
   "source": [
    "markets = markets.rename(columns={\"markets_code\": \"market_code\", \"markets_name\": \"market_name\"})"
   ]
  },
  {
   "cell_type": "code",
   "execution_count": 122,
   "id": "f2198e86-9f6c-4136-9079-70816de100ef",
   "metadata": {},
   "outputs": [
    {
     "data": {
      "text/html": [
       "<div>\n",
       "<style scoped>\n",
       "    .dataframe tbody tr th:only-of-type {\n",
       "        vertical-align: middle;\n",
       "    }\n",
       "\n",
       "    .dataframe tbody tr th {\n",
       "        vertical-align: top;\n",
       "    }\n",
       "\n",
       "    .dataframe thead th {\n",
       "        text-align: right;\n",
       "    }\n",
       "</style>\n",
       "<table border=\"1\" class=\"dataframe\">\n",
       "  <thead>\n",
       "    <tr style=\"text-align: right;\">\n",
       "      <th></th>\n",
       "      <th>market_code</th>\n",
       "      <th>market_name</th>\n",
       "      <th>zone</th>\n",
       "    </tr>\n",
       "  </thead>\n",
       "  <tbody>\n",
       "    <tr>\n",
       "      <th>0</th>\n",
       "      <td>Mark001</td>\n",
       "      <td>Chennai</td>\n",
       "      <td>South</td>\n",
       "    </tr>\n",
       "    <tr>\n",
       "      <th>1</th>\n",
       "      <td>Mark002</td>\n",
       "      <td>Mumbai</td>\n",
       "      <td>Central</td>\n",
       "    </tr>\n",
       "    <tr>\n",
       "      <th>2</th>\n",
       "      <td>Mark003</td>\n",
       "      <td>Ahmedabad</td>\n",
       "      <td>North</td>\n",
       "    </tr>\n",
       "    <tr>\n",
       "      <th>3</th>\n",
       "      <td>Mark004</td>\n",
       "      <td>Delhi NCR</td>\n",
       "      <td>North</td>\n",
       "    </tr>\n",
       "    <tr>\n",
       "      <th>4</th>\n",
       "      <td>Mark005</td>\n",
       "      <td>Kanpur</td>\n",
       "      <td>North</td>\n",
       "    </tr>\n",
       "  </tbody>\n",
       "</table>\n",
       "</div>"
      ],
      "text/plain": [
       "  market_code market_name     zone\n",
       "0     Mark001     Chennai    South\n",
       "1     Mark002      Mumbai  Central\n",
       "2     Mark003   Ahmedabad    North\n",
       "3     Mark004   Delhi NCR    North\n",
       "4     Mark005      Kanpur    North"
      ]
     },
     "execution_count": 122,
     "metadata": {},
     "output_type": "execute_result"
    }
   ],
   "source": [
    "markets.head(5)"
   ]
  },
  {
   "cell_type": "code",
   "execution_count": 123,
   "id": "af27fbf3-90ab-48af-bb40-6b8d075f5d90",
   "metadata": {},
   "outputs": [
    {
     "data": {
      "text/plain": [
       "array(['Chennai', 'Mumbai', 'Ahmedabad', 'Delhi NCR', 'Kanpur',\n",
       "       'Bengaluru', 'Bhopal', 'Lucknow', 'Patna', 'Kochi', 'Nagpur',\n",
       "       'Surat', 'Hyderabad', 'Bhubaneshwar'], dtype=object)"
      ]
     },
     "execution_count": 123,
     "metadata": {},
     "output_type": "execute_result"
    }
   ],
   "source": [
    "markets['market_name'].unique()"
   ]
  },
  {
   "cell_type": "code",
   "execution_count": 124,
   "id": "0c1a6085-777b-4c5e-93b8-6540d2477503",
   "metadata": {},
   "outputs": [
    {
     "data": {
      "text/plain": [
       "14"
      ]
     },
     "execution_count": 124,
     "metadata": {},
     "output_type": "execute_result"
    }
   ],
   "source": [
    "markets['market_name'].nunique()"
   ]
  },
  {
   "cell_type": "code",
   "execution_count": 125,
   "id": "e8e88e78-eeb5-4083-9121-573a26bb0b88",
   "metadata": {},
   "outputs": [
    {
     "data": {
      "text/plain": [
       "array(['South', 'Central', 'North'], dtype=object)"
      ]
     },
     "execution_count": 125,
     "metadata": {},
     "output_type": "execute_result"
    }
   ],
   "source": [
    "markets['zone'].unique()"
   ]
  },
  {
   "cell_type": "code",
   "execution_count": 126,
   "id": "e33e94d7-d451-43ec-bcb0-2c286b204c9a",
   "metadata": {},
   "outputs": [
    {
     "data": {
      "text/plain": [
       "3"
      ]
     },
     "execution_count": 126,
     "metadata": {},
     "output_type": "execute_result"
    }
   ],
   "source": [
    "markets['zone'].nunique()"
   ]
  },
  {
   "cell_type": "code",
   "execution_count": 127,
   "id": "7f257169-6627-495f-bf1c-c75d4090be01",
   "metadata": {},
   "outputs": [
    {
     "data": {
      "text/plain": [
       "15"
      ]
     },
     "execution_count": 127,
     "metadata": {},
     "output_type": "execute_result"
    }
   ],
   "source": [
    "markets['market_code'].nunique()"
   ]
  },
  {
   "cell_type": "code",
   "execution_count": 128,
   "id": "05eedffd-9cfe-4027-bdc4-4961759edb69",
   "metadata": {},
   "outputs": [
    {
     "data": {
      "text/plain": [
       "(148672, 16)"
      ]
     },
     "execution_count": 128,
     "metadata": {},
     "output_type": "execute_result"
    }
   ],
   "source": [
    "transactions3.shape"
   ]
  },
  {
   "cell_type": "code",
   "execution_count": 129,
   "id": "97df262e-c71b-444b-a69c-db2541aebf48",
   "metadata": {},
   "outputs": [],
   "source": [
    "transactions4 = pd.merge(transactions3, markets, how='inner', on='market_code')"
   ]
  },
  {
   "cell_type": "code",
   "execution_count": 131,
   "id": "acb67c8a-653f-488c-8902-a11d042e1fdc",
   "metadata": {},
   "outputs": [
    {
     "data": {
      "text/html": [
       "<div>\n",
       "<style scoped>\n",
       "    .dataframe tbody tr th:only-of-type {\n",
       "        vertical-align: middle;\n",
       "    }\n",
       "\n",
       "    .dataframe tbody tr th {\n",
       "        vertical-align: top;\n",
       "    }\n",
       "\n",
       "    .dataframe thead th {\n",
       "        text-align: right;\n",
       "    }\n",
       "</style>\n",
       "<table border=\"1\" class=\"dataframe\">\n",
       "  <thead>\n",
       "    <tr style=\"text-align: right;\">\n",
       "      <th></th>\n",
       "      <th>product_code</th>\n",
       "      <th>customer_code</th>\n",
       "      <th>market_code</th>\n",
       "      <th>order_date</th>\n",
       "      <th>sales_qty</th>\n",
       "      <th>sales_amount</th>\n",
       "      <th>currency</th>\n",
       "      <th>product_price</th>\n",
       "      <th>profit_percentage</th>\n",
       "      <th>original_price</th>\n",
       "      <th>profit</th>\n",
       "      <th>total_profit</th>\n",
       "      <th>total_cost</th>\n",
       "      <th>product_type</th>\n",
       "      <th>custmer_name</th>\n",
       "      <th>customer_type</th>\n",
       "      <th>market_name</th>\n",
       "      <th>zone</th>\n",
       "    </tr>\n",
       "  </thead>\n",
       "  <tbody>\n",
       "    <tr>\n",
       "      <th>0</th>\n",
       "      <td>Prod001</td>\n",
       "      <td>Cus001</td>\n",
       "      <td>Mark001</td>\n",
       "      <td>2017-10-10</td>\n",
       "      <td>100</td>\n",
       "      <td>41241.00</td>\n",
       "      <td>INR</td>\n",
       "      <td>412.41</td>\n",
       "      <td>11</td>\n",
       "      <td>367.04</td>\n",
       "      <td>45.37</td>\n",
       "      <td>4536.51</td>\n",
       "      <td>36704.49</td>\n",
       "      <td>Own Brand</td>\n",
       "      <td>Surge Stores</td>\n",
       "      <td>Brick &amp; Mortar</td>\n",
       "      <td>Chennai</td>\n",
       "      <td>South</td>\n",
       "    </tr>\n",
       "    <tr>\n",
       "      <th>1</th>\n",
       "      <td>Prod002</td>\n",
       "      <td>Cus003</td>\n",
       "      <td>Mark003</td>\n",
       "      <td>2018-04-06</td>\n",
       "      <td>1</td>\n",
       "      <td>875.00</td>\n",
       "      <td>INR</td>\n",
       "      <td>875.00</td>\n",
       "      <td>13</td>\n",
       "      <td>761.25</td>\n",
       "      <td>113.75</td>\n",
       "      <td>113.75</td>\n",
       "      <td>761.25</td>\n",
       "      <td>Own Brand</td>\n",
       "      <td>Excel Stores</td>\n",
       "      <td>Brick &amp; Mortar</td>\n",
       "      <td>Ahmedabad</td>\n",
       "      <td>North</td>\n",
       "    </tr>\n",
       "    <tr>\n",
       "      <th>2</th>\n",
       "      <td>Prod002</td>\n",
       "      <td>Cus003</td>\n",
       "      <td>Mark003</td>\n",
       "      <td>2018-04-11</td>\n",
       "      <td>1</td>\n",
       "      <td>583.00</td>\n",
       "      <td>INR</td>\n",
       "      <td>583.00</td>\n",
       "      <td>13</td>\n",
       "      <td>507.21</td>\n",
       "      <td>75.79</td>\n",
       "      <td>75.79</td>\n",
       "      <td>507.21</td>\n",
       "      <td>Own Brand</td>\n",
       "      <td>Excel Stores</td>\n",
       "      <td>Brick &amp; Mortar</td>\n",
       "      <td>Ahmedabad</td>\n",
       "      <td>North</td>\n",
       "    </tr>\n",
       "    <tr>\n",
       "      <th>3</th>\n",
       "      <td>Prod002</td>\n",
       "      <td>Cus004</td>\n",
       "      <td>Mark003</td>\n",
       "      <td>2018-06-18</td>\n",
       "      <td>6</td>\n",
       "      <td>7176.00</td>\n",
       "      <td>INR</td>\n",
       "      <td>1196.00</td>\n",
       "      <td>15</td>\n",
       "      <td>1016.60</td>\n",
       "      <td>179.40</td>\n",
       "      <td>1076.40</td>\n",
       "      <td>6099.60</td>\n",
       "      <td>Own Brand</td>\n",
       "      <td>Surface Stores</td>\n",
       "      <td>Brick &amp; Mortar</td>\n",
       "      <td>Ahmedabad</td>\n",
       "      <td>North</td>\n",
       "    </tr>\n",
       "    <tr>\n",
       "      <th>4</th>\n",
       "      <td>Prod003</td>\n",
       "      <td>Cus005</td>\n",
       "      <td>Mark004</td>\n",
       "      <td>2017-11-20</td>\n",
       "      <td>59</td>\n",
       "      <td>37500.00</td>\n",
       "      <td>INR</td>\n",
       "      <td>635.59</td>\n",
       "      <td>13</td>\n",
       "      <td>552.97</td>\n",
       "      <td>82.63</td>\n",
       "      <td>4875.00</td>\n",
       "      <td>32625.00</td>\n",
       "      <td>Own Brand</td>\n",
       "      <td>Premium Stores</td>\n",
       "      <td>Brick &amp; Mortar</td>\n",
       "      <td>Delhi NCR</td>\n",
       "      <td>North</td>\n",
       "    </tr>\n",
       "  </tbody>\n",
       "</table>\n",
       "</div>"
      ],
      "text/plain": [
       "  product_code customer_code market_code  order_date  sales_qty  sales_amount  \\\n",
       "0      Prod001        Cus001     Mark001  2017-10-10        100      41241.00   \n",
       "1      Prod002        Cus003     Mark003  2018-04-06          1        875.00   \n",
       "2      Prod002        Cus003     Mark003  2018-04-11          1        583.00   \n",
       "3      Prod002        Cus004     Mark003  2018-06-18          6       7176.00   \n",
       "4      Prod003        Cus005     Mark004  2017-11-20         59      37500.00   \n",
       "\n",
       "  currency  product_price  profit_percentage  original_price  profit  \\\n",
       "0      INR         412.41                 11          367.04   45.37   \n",
       "1      INR         875.00                 13          761.25  113.75   \n",
       "2      INR         583.00                 13          507.21   75.79   \n",
       "3      INR        1196.00                 15         1016.60  179.40   \n",
       "4      INR         635.59                 13          552.97   82.63   \n",
       "\n",
       "   total_profit  total_cost product_type    custmer_name   customer_type  \\\n",
       "0       4536.51    36704.49    Own Brand    Surge Stores  Brick & Mortar   \n",
       "1        113.75      761.25    Own Brand    Excel Stores  Brick & Mortar   \n",
       "2         75.79      507.21    Own Brand    Excel Stores  Brick & Mortar   \n",
       "3       1076.40     6099.60    Own Brand  Surface Stores  Brick & Mortar   \n",
       "4       4875.00    32625.00    Own Brand  Premium Stores  Brick & Mortar   \n",
       "\n",
       "  market_name   zone  \n",
       "0     Chennai  South  \n",
       "1   Ahmedabad  North  \n",
       "2   Ahmedabad  North  \n",
       "3   Ahmedabad  North  \n",
       "4   Delhi NCR  North  "
      ]
     },
     "execution_count": 131,
     "metadata": {},
     "output_type": "execute_result"
    }
   ],
   "source": [
    "transactions4.head(5)"
   ]
  },
  {
   "cell_type": "code",
   "execution_count": 132,
   "id": "25c398ec-d475-4fae-a702-27663acc0816",
   "metadata": {},
   "outputs": [
    {
     "data": {
      "text/plain": [
       "(148672, 18)"
      ]
     },
     "execution_count": 132,
     "metadata": {},
     "output_type": "execute_result"
    }
   ],
   "source": [
    "transactions4.shape"
   ]
  },
  {
   "cell_type": "markdown",
   "id": "35454ed0-a10b-4ee2-b87a-cbca4d0bd8c1",
   "metadata": {},
   "source": [
    "## Date "
   ]
  },
  {
   "cell_type": "code",
   "execution_count": 133,
   "id": "69051bad-e320-459b-af14-0eef41b12989",
   "metadata": {},
   "outputs": [
    {
     "data": {
      "text/plain": [
       "Index(['date', 'cy_date', 'year', 'month_name', 'date_yy_mmm'], dtype='object')"
      ]
     },
     "execution_count": 133,
     "metadata": {},
     "output_type": "execute_result"
    }
   ],
   "source": [
    "date.columns"
   ]
  },
  {
   "cell_type": "code",
   "execution_count": 134,
   "id": "b9a65db0-01fe-4f2f-8531-6c74a5115308",
   "metadata": {},
   "outputs": [],
   "source": [
    "date = date.rename(columns={\"date\": \"order_date\"})"
   ]
  },
  {
   "cell_type": "code",
   "execution_count": 135,
   "id": "8b9dac4b-e736-41d9-b456-88831c99cac5",
   "metadata": {},
   "outputs": [
    {
     "data": {
      "text/html": [
       "<div>\n",
       "<style scoped>\n",
       "    .dataframe tbody tr th:only-of-type {\n",
       "        vertical-align: middle;\n",
       "    }\n",
       "\n",
       "    .dataframe tbody tr th {\n",
       "        vertical-align: top;\n",
       "    }\n",
       "\n",
       "    .dataframe thead th {\n",
       "        text-align: right;\n",
       "    }\n",
       "</style>\n",
       "<table border=\"1\" class=\"dataframe\">\n",
       "  <thead>\n",
       "    <tr style=\"text-align: right;\">\n",
       "      <th></th>\n",
       "      <th>order_date</th>\n",
       "      <th>cy_date</th>\n",
       "      <th>year</th>\n",
       "      <th>month_name</th>\n",
       "      <th>date_yy_mmm</th>\n",
       "    </tr>\n",
       "  </thead>\n",
       "  <tbody>\n",
       "    <tr>\n",
       "      <th>0</th>\n",
       "      <td>2017-06-01</td>\n",
       "      <td>2017-06-01</td>\n",
       "      <td>2017</td>\n",
       "      <td>June</td>\n",
       "      <td>17-Jun</td>\n",
       "    </tr>\n",
       "    <tr>\n",
       "      <th>1</th>\n",
       "      <td>2017-06-02</td>\n",
       "      <td>2017-06-01</td>\n",
       "      <td>2017</td>\n",
       "      <td>June</td>\n",
       "      <td>17-Jun</td>\n",
       "    </tr>\n",
       "    <tr>\n",
       "      <th>2</th>\n",
       "      <td>2017-06-03</td>\n",
       "      <td>2017-06-01</td>\n",
       "      <td>2017</td>\n",
       "      <td>June</td>\n",
       "      <td>17-Jun</td>\n",
       "    </tr>\n",
       "    <tr>\n",
       "      <th>3</th>\n",
       "      <td>2017-06-04</td>\n",
       "      <td>2017-06-01</td>\n",
       "      <td>2017</td>\n",
       "      <td>June</td>\n",
       "      <td>17-Jun</td>\n",
       "    </tr>\n",
       "    <tr>\n",
       "      <th>4</th>\n",
       "      <td>2017-06-05</td>\n",
       "      <td>2017-06-01</td>\n",
       "      <td>2017</td>\n",
       "      <td>June</td>\n",
       "      <td>17-Jun</td>\n",
       "    </tr>\n",
       "  </tbody>\n",
       "</table>\n",
       "</div>"
      ],
      "text/plain": [
       "   order_date     cy_date  year month_name date_yy_mmm\n",
       "0  2017-06-01  2017-06-01  2017       June      17-Jun\n",
       "1  2017-06-02  2017-06-01  2017       June      17-Jun\n",
       "2  2017-06-03  2017-06-01  2017       June      17-Jun\n",
       "3  2017-06-04  2017-06-01  2017       June      17-Jun\n",
       "4  2017-06-05  2017-06-01  2017       June      17-Jun"
      ]
     },
     "execution_count": 135,
     "metadata": {},
     "output_type": "execute_result"
    }
   ],
   "source": [
    "date.head(5)"
   ]
  },
  {
   "cell_type": "code",
   "execution_count": 136,
   "id": "5ec4f3fd-0f10-4515-a6de-b5cb59f16efc",
   "metadata": {},
   "outputs": [
    {
     "data": {
      "text/plain": [
       "1126"
      ]
     },
     "execution_count": 136,
     "metadata": {},
     "output_type": "execute_result"
    }
   ],
   "source": [
    "date['order_date'].nunique()"
   ]
  },
  {
   "cell_type": "code",
   "execution_count": 137,
   "id": "b3b26513-44c3-4a58-aa40-2d439083eb5f",
   "metadata": {},
   "outputs": [
    {
     "data": {
      "text/plain": [
       "804"
      ]
     },
     "execution_count": 137,
     "metadata": {},
     "output_type": "execute_result"
    }
   ],
   "source": [
    "transactions4['order_date'].nunique()"
   ]
  },
  {
   "cell_type": "code",
   "execution_count": 138,
   "id": "08437539-0c90-41a7-8acc-88f83b6d4894",
   "metadata": {},
   "outputs": [
    {
     "data": {
      "text/plain": [
       "(148672, 18)"
      ]
     },
     "execution_count": 138,
     "metadata": {},
     "output_type": "execute_result"
    }
   ],
   "source": [
    "transactions4.shape"
   ]
  },
  {
   "cell_type": "code",
   "execution_count": 139,
   "id": "a0c778f7-fd08-4b10-b100-44cebc6c5933",
   "metadata": {},
   "outputs": [],
   "source": [
    "transactions5 = pd.merge(transactions4, date, how='inner', on='order_date')"
   ]
  },
  {
   "cell_type": "code",
   "execution_count": 140,
   "id": "896d888c-ea53-4d41-8dda-ba86abf7ff42",
   "metadata": {},
   "outputs": [
    {
     "data": {
      "text/html": [
       "<div>\n",
       "<style scoped>\n",
       "    .dataframe tbody tr th:only-of-type {\n",
       "        vertical-align: middle;\n",
       "    }\n",
       "\n",
       "    .dataframe tbody tr th {\n",
       "        vertical-align: top;\n",
       "    }\n",
       "\n",
       "    .dataframe thead th {\n",
       "        text-align: right;\n",
       "    }\n",
       "</style>\n",
       "<table border=\"1\" class=\"dataframe\">\n",
       "  <thead>\n",
       "    <tr style=\"text-align: right;\">\n",
       "      <th></th>\n",
       "      <th>product_code</th>\n",
       "      <th>customer_code</th>\n",
       "      <th>market_code</th>\n",
       "      <th>order_date</th>\n",
       "      <th>sales_qty</th>\n",
       "      <th>sales_amount</th>\n",
       "      <th>currency</th>\n",
       "      <th>product_price</th>\n",
       "      <th>profit_percentage</th>\n",
       "      <th>original_price</th>\n",
       "      <th>...</th>\n",
       "      <th>total_cost</th>\n",
       "      <th>product_type</th>\n",
       "      <th>custmer_name</th>\n",
       "      <th>customer_type</th>\n",
       "      <th>market_name</th>\n",
       "      <th>zone</th>\n",
       "      <th>cy_date</th>\n",
       "      <th>year</th>\n",
       "      <th>month_name</th>\n",
       "      <th>date_yy_mmm</th>\n",
       "    </tr>\n",
       "  </thead>\n",
       "  <tbody>\n",
       "    <tr>\n",
       "      <th>0</th>\n",
       "      <td>Prod001</td>\n",
       "      <td>Cus001</td>\n",
       "      <td>Mark001</td>\n",
       "      <td>2017-10-10</td>\n",
       "      <td>100</td>\n",
       "      <td>41241.00</td>\n",
       "      <td>INR</td>\n",
       "      <td>412.41</td>\n",
       "      <td>11</td>\n",
       "      <td>367.04</td>\n",
       "      <td>...</td>\n",
       "      <td>36704.49</td>\n",
       "      <td>Own Brand</td>\n",
       "      <td>Surge Stores</td>\n",
       "      <td>Brick &amp; Mortar</td>\n",
       "      <td>Chennai</td>\n",
       "      <td>South</td>\n",
       "      <td>2017-10-01</td>\n",
       "      <td>2017</td>\n",
       "      <td>October</td>\n",
       "      <td>17-Oct</td>\n",
       "    </tr>\n",
       "    <tr>\n",
       "      <th>1</th>\n",
       "      <td>Prod002</td>\n",
       "      <td>Cus003</td>\n",
       "      <td>Mark003</td>\n",
       "      <td>2018-04-06</td>\n",
       "      <td>1</td>\n",
       "      <td>875.00</td>\n",
       "      <td>INR</td>\n",
       "      <td>875.00</td>\n",
       "      <td>13</td>\n",
       "      <td>761.25</td>\n",
       "      <td>...</td>\n",
       "      <td>761.25</td>\n",
       "      <td>Own Brand</td>\n",
       "      <td>Excel Stores</td>\n",
       "      <td>Brick &amp; Mortar</td>\n",
       "      <td>Ahmedabad</td>\n",
       "      <td>North</td>\n",
       "      <td>2018-04-01</td>\n",
       "      <td>2018</td>\n",
       "      <td>April</td>\n",
       "      <td>18-Apr</td>\n",
       "    </tr>\n",
       "    <tr>\n",
       "      <th>2</th>\n",
       "      <td>Prod002</td>\n",
       "      <td>Cus003</td>\n",
       "      <td>Mark003</td>\n",
       "      <td>2018-04-11</td>\n",
       "      <td>1</td>\n",
       "      <td>583.00</td>\n",
       "      <td>INR</td>\n",
       "      <td>583.00</td>\n",
       "      <td>13</td>\n",
       "      <td>507.21</td>\n",
       "      <td>...</td>\n",
       "      <td>507.21</td>\n",
       "      <td>Own Brand</td>\n",
       "      <td>Excel Stores</td>\n",
       "      <td>Brick &amp; Mortar</td>\n",
       "      <td>Ahmedabad</td>\n",
       "      <td>North</td>\n",
       "      <td>2018-04-01</td>\n",
       "      <td>2018</td>\n",
       "      <td>April</td>\n",
       "      <td>18-Apr</td>\n",
       "    </tr>\n",
       "    <tr>\n",
       "      <th>3</th>\n",
       "      <td>Prod002</td>\n",
       "      <td>Cus004</td>\n",
       "      <td>Mark003</td>\n",
       "      <td>2018-06-18</td>\n",
       "      <td>6</td>\n",
       "      <td>7176.00</td>\n",
       "      <td>INR</td>\n",
       "      <td>1196.00</td>\n",
       "      <td>15</td>\n",
       "      <td>1016.60</td>\n",
       "      <td>...</td>\n",
       "      <td>6099.60</td>\n",
       "      <td>Own Brand</td>\n",
       "      <td>Surface Stores</td>\n",
       "      <td>Brick &amp; Mortar</td>\n",
       "      <td>Ahmedabad</td>\n",
       "      <td>North</td>\n",
       "      <td>2018-06-01</td>\n",
       "      <td>2018</td>\n",
       "      <td>June</td>\n",
       "      <td>18-Jun</td>\n",
       "    </tr>\n",
       "    <tr>\n",
       "      <th>4</th>\n",
       "      <td>Prod003</td>\n",
       "      <td>Cus005</td>\n",
       "      <td>Mark004</td>\n",
       "      <td>2017-11-20</td>\n",
       "      <td>59</td>\n",
       "      <td>37500.00</td>\n",
       "      <td>INR</td>\n",
       "      <td>635.59</td>\n",
       "      <td>13</td>\n",
       "      <td>552.97</td>\n",
       "      <td>...</td>\n",
       "      <td>32625.00</td>\n",
       "      <td>Own Brand</td>\n",
       "      <td>Premium Stores</td>\n",
       "      <td>Brick &amp; Mortar</td>\n",
       "      <td>Delhi NCR</td>\n",
       "      <td>North</td>\n",
       "      <td>2017-11-01</td>\n",
       "      <td>2017</td>\n",
       "      <td>November</td>\n",
       "      <td>17-Nov</td>\n",
       "    </tr>\n",
       "  </tbody>\n",
       "</table>\n",
       "<p>5 rows × 22 columns</p>\n",
       "</div>"
      ],
      "text/plain": [
       "  product_code customer_code market_code  order_date  sales_qty  sales_amount  \\\n",
       "0      Prod001        Cus001     Mark001  2017-10-10        100      41241.00   \n",
       "1      Prod002        Cus003     Mark003  2018-04-06          1        875.00   \n",
       "2      Prod002        Cus003     Mark003  2018-04-11          1        583.00   \n",
       "3      Prod002        Cus004     Mark003  2018-06-18          6       7176.00   \n",
       "4      Prod003        Cus005     Mark004  2017-11-20         59      37500.00   \n",
       "\n",
       "  currency  product_price  profit_percentage  original_price  ...  total_cost  \\\n",
       "0      INR         412.41                 11          367.04  ...    36704.49   \n",
       "1      INR         875.00                 13          761.25  ...      761.25   \n",
       "2      INR         583.00                 13          507.21  ...      507.21   \n",
       "3      INR        1196.00                 15         1016.60  ...     6099.60   \n",
       "4      INR         635.59                 13          552.97  ...    32625.00   \n",
       "\n",
       "   product_type    custmer_name   customer_type market_name   zone  \\\n",
       "0     Own Brand    Surge Stores  Brick & Mortar     Chennai  South   \n",
       "1     Own Brand    Excel Stores  Brick & Mortar   Ahmedabad  North   \n",
       "2     Own Brand    Excel Stores  Brick & Mortar   Ahmedabad  North   \n",
       "3     Own Brand  Surface Stores  Brick & Mortar   Ahmedabad  North   \n",
       "4     Own Brand  Premium Stores  Brick & Mortar   Delhi NCR  North   \n",
       "\n",
       "      cy_date  year month_name  date_yy_mmm  \n",
       "0  2017-10-01  2017    October       17-Oct  \n",
       "1  2018-04-01  2018      April       18-Apr  \n",
       "2  2018-04-01  2018      April       18-Apr  \n",
       "3  2018-06-01  2018       June       18-Jun  \n",
       "4  2017-11-01  2017   November       17-Nov  \n",
       "\n",
       "[5 rows x 22 columns]"
      ]
     },
     "execution_count": 140,
     "metadata": {},
     "output_type": "execute_result"
    }
   ],
   "source": [
    "transactions5.head(5)"
   ]
  },
  {
   "cell_type": "code",
   "execution_count": 141,
   "id": "45a68de4-40fc-4016-afab-03e2b1e60868",
   "metadata": {},
   "outputs": [
    {
     "data": {
      "text/plain": [
       "(148672, 22)"
      ]
     },
     "execution_count": 141,
     "metadata": {},
     "output_type": "execute_result"
    }
   ],
   "source": [
    "transactions5.shape"
   ]
  },
  {
   "cell_type": "markdown",
   "id": "d438b1ad-062c-442a-ae52-daccd09d5e69",
   "metadata": {},
   "source": [
    "## Save the file for Power BI "
   ]
  },
  {
   "cell_type": "code",
   "execution_count": 142,
   "id": "ad728767-e5c8-4152-b17d-40b43be260c6",
   "metadata": {},
   "outputs": [],
   "source": [
    "transactions5.to_csv('transactions_all.csv', index=False)"
   ]
  },
  {
   "cell_type": "code",
   "execution_count": 143,
   "id": "71866d16-2ad9-4e03-931a-6b2624876a34",
   "metadata": {},
   "outputs": [
    {
     "data": {
      "text/plain": [
       "Index(['product_code', 'customer_code', 'market_code', 'order_date',\n",
       "       'sales_qty', 'sales_amount', 'currency', 'product_price',\n",
       "       'profit_percentage', 'original_price', 'profit', 'total_profit',\n",
       "       'total_cost', 'product_type', 'custmer_name', 'customer_type',\n",
       "       'market_name', 'zone', 'cy_date', 'year', 'month_name', 'date_yy_mmm'],\n",
       "      dtype='object')"
      ]
     },
     "execution_count": 143,
     "metadata": {},
     "output_type": "execute_result"
    }
   ],
   "source": [
    "transactions5.columns"
   ]
  },
  {
   "cell_type": "code",
   "execution_count": 144,
   "id": "a3d3450c-110d-4554-b218-f595475c9448",
   "metadata": {},
   "outputs": [
    {
     "data": {
      "text/plain": [
       "22"
      ]
     },
     "execution_count": 144,
     "metadata": {},
     "output_type": "execute_result"
    }
   ],
   "source": [
    "len(transactions5.columns)"
   ]
  },
  {
   "cell_type": "code",
   "execution_count": 145,
   "id": "d777fb2f-64fc-481f-b7a2-7c86fdc2c9b0",
   "metadata": {},
   "outputs": [
    {
     "data": {
      "text/plain": [
       "product_code          object\n",
       "customer_code         object\n",
       "market_code           object\n",
       "order_date            object\n",
       "sales_qty              int64\n",
       "sales_amount         float64\n",
       "currency              object\n",
       "product_price        float64\n",
       "profit_percentage      int64\n",
       "original_price       float64\n",
       "profit               float64\n",
       "total_profit         float64\n",
       "total_cost           float64\n",
       "product_type          object\n",
       "custmer_name          object\n",
       "customer_type         object\n",
       "market_name           object\n",
       "zone                  object\n",
       "cy_date               object\n",
       "year                   int64\n",
       "month_name            object\n",
       "date_yy_mmm           object\n",
       "dtype: object"
      ]
     },
     "execution_count": 145,
     "metadata": {},
     "output_type": "execute_result"
    }
   ],
   "source": [
    "transactions5.dtypes"
   ]
  },
  {
   "cell_type": "markdown",
   "id": "ea75642b-4c58-483e-8a4a-e4ce122bd4e5",
   "metadata": {},
   "source": [
    "## Load the Data "
   ]
  },
  {
   "cell_type": "code",
   "execution_count": 146,
   "id": "6f55334b-3390-4ee2-a60c-a4186a86fcda",
   "metadata": {},
   "outputs": [],
   "source": [
    "df = pd.read_csv('./transactions_all.csv')"
   ]
  },
  {
   "cell_type": "code",
   "execution_count": 147,
   "id": "aaf2caca-4e96-4436-a0c0-768de15814ed",
   "metadata": {},
   "outputs": [
    {
     "data": {
      "text/html": [
       "<div>\n",
       "<style scoped>\n",
       "    .dataframe tbody tr th:only-of-type {\n",
       "        vertical-align: middle;\n",
       "    }\n",
       "\n",
       "    .dataframe tbody tr th {\n",
       "        vertical-align: top;\n",
       "    }\n",
       "\n",
       "    .dataframe thead th {\n",
       "        text-align: right;\n",
       "    }\n",
       "</style>\n",
       "<table border=\"1\" class=\"dataframe\">\n",
       "  <thead>\n",
       "    <tr style=\"text-align: right;\">\n",
       "      <th></th>\n",
       "      <th>product_code</th>\n",
       "      <th>customer_code</th>\n",
       "      <th>market_code</th>\n",
       "      <th>order_date</th>\n",
       "      <th>sales_qty</th>\n",
       "      <th>sales_amount</th>\n",
       "      <th>currency</th>\n",
       "      <th>product_price</th>\n",
       "      <th>profit_percentage</th>\n",
       "      <th>original_price</th>\n",
       "      <th>...</th>\n",
       "      <th>total_cost</th>\n",
       "      <th>product_type</th>\n",
       "      <th>custmer_name</th>\n",
       "      <th>customer_type</th>\n",
       "      <th>market_name</th>\n",
       "      <th>zone</th>\n",
       "      <th>cy_date</th>\n",
       "      <th>year</th>\n",
       "      <th>month_name</th>\n",
       "      <th>date_yy_mmm</th>\n",
       "    </tr>\n",
       "  </thead>\n",
       "  <tbody>\n",
       "    <tr>\n",
       "      <th>0</th>\n",
       "      <td>Prod001</td>\n",
       "      <td>Cus001</td>\n",
       "      <td>Mark001</td>\n",
       "      <td>2017-10-10</td>\n",
       "      <td>100</td>\n",
       "      <td>41241.00</td>\n",
       "      <td>INR</td>\n",
       "      <td>412.41</td>\n",
       "      <td>11</td>\n",
       "      <td>367.04</td>\n",
       "      <td>...</td>\n",
       "      <td>36704.49</td>\n",
       "      <td>Own Brand</td>\n",
       "      <td>Surge Stores</td>\n",
       "      <td>Brick &amp; Mortar</td>\n",
       "      <td>Chennai</td>\n",
       "      <td>South</td>\n",
       "      <td>2017-10-01</td>\n",
       "      <td>2017</td>\n",
       "      <td>October</td>\n",
       "      <td>17-Oct</td>\n",
       "    </tr>\n",
       "    <tr>\n",
       "      <th>1</th>\n",
       "      <td>Prod002</td>\n",
       "      <td>Cus003</td>\n",
       "      <td>Mark003</td>\n",
       "      <td>2018-04-06</td>\n",
       "      <td>1</td>\n",
       "      <td>875.00</td>\n",
       "      <td>INR</td>\n",
       "      <td>875.00</td>\n",
       "      <td>13</td>\n",
       "      <td>761.25</td>\n",
       "      <td>...</td>\n",
       "      <td>761.25</td>\n",
       "      <td>Own Brand</td>\n",
       "      <td>Excel Stores</td>\n",
       "      <td>Brick &amp; Mortar</td>\n",
       "      <td>Ahmedabad</td>\n",
       "      <td>North</td>\n",
       "      <td>2018-04-01</td>\n",
       "      <td>2018</td>\n",
       "      <td>April</td>\n",
       "      <td>18-Apr</td>\n",
       "    </tr>\n",
       "    <tr>\n",
       "      <th>2</th>\n",
       "      <td>Prod002</td>\n",
       "      <td>Cus003</td>\n",
       "      <td>Mark003</td>\n",
       "      <td>2018-04-11</td>\n",
       "      <td>1</td>\n",
       "      <td>583.00</td>\n",
       "      <td>INR</td>\n",
       "      <td>583.00</td>\n",
       "      <td>13</td>\n",
       "      <td>507.21</td>\n",
       "      <td>...</td>\n",
       "      <td>507.21</td>\n",
       "      <td>Own Brand</td>\n",
       "      <td>Excel Stores</td>\n",
       "      <td>Brick &amp; Mortar</td>\n",
       "      <td>Ahmedabad</td>\n",
       "      <td>North</td>\n",
       "      <td>2018-04-01</td>\n",
       "      <td>2018</td>\n",
       "      <td>April</td>\n",
       "      <td>18-Apr</td>\n",
       "    </tr>\n",
       "    <tr>\n",
       "      <th>3</th>\n",
       "      <td>Prod002</td>\n",
       "      <td>Cus004</td>\n",
       "      <td>Mark003</td>\n",
       "      <td>2018-06-18</td>\n",
       "      <td>6</td>\n",
       "      <td>7176.00</td>\n",
       "      <td>INR</td>\n",
       "      <td>1196.00</td>\n",
       "      <td>15</td>\n",
       "      <td>1016.60</td>\n",
       "      <td>...</td>\n",
       "      <td>6099.60</td>\n",
       "      <td>Own Brand</td>\n",
       "      <td>Surface Stores</td>\n",
       "      <td>Brick &amp; Mortar</td>\n",
       "      <td>Ahmedabad</td>\n",
       "      <td>North</td>\n",
       "      <td>2018-06-01</td>\n",
       "      <td>2018</td>\n",
       "      <td>June</td>\n",
       "      <td>18-Jun</td>\n",
       "    </tr>\n",
       "    <tr>\n",
       "      <th>4</th>\n",
       "      <td>Prod003</td>\n",
       "      <td>Cus005</td>\n",
       "      <td>Mark004</td>\n",
       "      <td>2017-11-20</td>\n",
       "      <td>59</td>\n",
       "      <td>37500.00</td>\n",
       "      <td>INR</td>\n",
       "      <td>635.59</td>\n",
       "      <td>13</td>\n",
       "      <td>552.97</td>\n",
       "      <td>...</td>\n",
       "      <td>32625.00</td>\n",
       "      <td>Own Brand</td>\n",
       "      <td>Premium Stores</td>\n",
       "      <td>Brick &amp; Mortar</td>\n",
       "      <td>Delhi NCR</td>\n",
       "      <td>North</td>\n",
       "      <td>2017-11-01</td>\n",
       "      <td>2017</td>\n",
       "      <td>November</td>\n",
       "      <td>17-Nov</td>\n",
       "    </tr>\n",
       "  </tbody>\n",
       "</table>\n",
       "<p>5 rows × 22 columns</p>\n",
       "</div>"
      ],
      "text/plain": [
       "  product_code customer_code market_code  order_date  sales_qty  sales_amount  \\\n",
       "0      Prod001        Cus001     Mark001  2017-10-10        100      41241.00   \n",
       "1      Prod002        Cus003     Mark003  2018-04-06          1        875.00   \n",
       "2      Prod002        Cus003     Mark003  2018-04-11          1        583.00   \n",
       "3      Prod002        Cus004     Mark003  2018-06-18          6       7176.00   \n",
       "4      Prod003        Cus005     Mark004  2017-11-20         59      37500.00   \n",
       "\n",
       "  currency  product_price  profit_percentage  original_price  ...  total_cost  \\\n",
       "0      INR         412.41                 11          367.04  ...    36704.49   \n",
       "1      INR         875.00                 13          761.25  ...      761.25   \n",
       "2      INR         583.00                 13          507.21  ...      507.21   \n",
       "3      INR        1196.00                 15         1016.60  ...     6099.60   \n",
       "4      INR         635.59                 13          552.97  ...    32625.00   \n",
       "\n",
       "   product_type    custmer_name   customer_type market_name   zone  \\\n",
       "0     Own Brand    Surge Stores  Brick & Mortar     Chennai  South   \n",
       "1     Own Brand    Excel Stores  Brick & Mortar   Ahmedabad  North   \n",
       "2     Own Brand    Excel Stores  Brick & Mortar   Ahmedabad  North   \n",
       "3     Own Brand  Surface Stores  Brick & Mortar   Ahmedabad  North   \n",
       "4     Own Brand  Premium Stores  Brick & Mortar   Delhi NCR  North   \n",
       "\n",
       "      cy_date  year month_name  date_yy_mmm  \n",
       "0  2017-10-01  2017    October       17-Oct  \n",
       "1  2018-04-01  2018      April       18-Apr  \n",
       "2  2018-04-01  2018      April       18-Apr  \n",
       "3  2018-06-01  2018       June       18-Jun  \n",
       "4  2017-11-01  2017   November       17-Nov  \n",
       "\n",
       "[5 rows x 22 columns]"
      ]
     },
     "execution_count": 147,
     "metadata": {},
     "output_type": "execute_result"
    }
   ],
   "source": [
    "df.head(5)"
   ]
  },
  {
   "cell_type": "code",
   "execution_count": 148,
   "id": "e682ca9a-8c15-4391-a7b0-dd0d31d7fcf3",
   "metadata": {},
   "outputs": [
    {
     "data": {
      "text/plain": [
       "(148672, 22)"
      ]
     },
     "execution_count": 148,
     "metadata": {},
     "output_type": "execute_result"
    }
   ],
   "source": [
    "df.shape"
   ]
  },
  {
   "cell_type": "code",
   "execution_count": 149,
   "id": "a69006d6-34e5-4a8a-aee9-ca868507f41c",
   "metadata": {},
   "outputs": [
    {
     "data": {
      "text/plain": [
       "np.float64(986676768.0)"
      ]
     },
     "execution_count": 149,
     "metadata": {},
     "output_type": "execute_result"
    }
   ],
   "source": [
    "df['sales_amount'].sum()"
   ]
  },
  {
   "cell_type": "code",
   "execution_count": 150,
   "id": "cb5bfebd-db10-4f2b-a0dc-0c6d57e995b6",
   "metadata": {},
   "outputs": [
    {
     "data": {
      "text/plain": [
       "np.float64(849375728.9)"
      ]
     },
     "execution_count": 150,
     "metadata": {},
     "output_type": "execute_result"
    }
   ],
   "source": [
    "df['total_cost'].sum()"
   ]
  },
  {
   "cell_type": "code",
   "execution_count": 151,
   "id": "a282aabd-2327-462b-a367-2d0e09ec1e36",
   "metadata": {},
   "outputs": [
    {
     "data": {
      "text/plain": [
       "np.float64(137301039.10000002)"
      ]
     },
     "execution_count": 151,
     "metadata": {},
     "output_type": "execute_result"
    }
   ],
   "source": [
    "df['total_profit'].sum()"
   ]
  },
  {
   "cell_type": "code",
   "execution_count": 152,
   "id": "40ff553f-9b9b-4844-88cf-0bfdb4f42efe",
   "metadata": {},
   "outputs": [
    {
     "data": {
      "text/plain": [
       "np.float64(0.0)"
      ]
     },
     "execution_count": 152,
     "metadata": {},
     "output_type": "execute_result"
    }
   ],
   "source": [
    "df['sales_amount'].sum() - (df['total_cost'].sum() + df['total_profit'].sum())"
   ]
  },
  {
   "cell_type": "markdown",
   "id": "bb787c65-5bb3-419a-8627-55187832de3f",
   "metadata": {},
   "source": [
    "## Data Visualization"
   ]
  },
  {
   "cell_type": "code",
   "execution_count": 154,
   "id": "61e0d9d8-02bc-4239-8c78-088cf3455621",
   "metadata": {},
   "outputs": [
    {
     "data": {
      "text/html": [
       "<div>\n",
       "<style scoped>\n",
       "    .dataframe tbody tr th:only-of-type {\n",
       "        vertical-align: middle;\n",
       "    }\n",
       "\n",
       "    .dataframe tbody tr th {\n",
       "        vertical-align: top;\n",
       "    }\n",
       "\n",
       "    .dataframe thead th {\n",
       "        text-align: right;\n",
       "    }\n",
       "</style>\n",
       "<table border=\"1\" class=\"dataframe\">\n",
       "  <thead>\n",
       "    <tr style=\"text-align: right;\">\n",
       "      <th></th>\n",
       "      <th>sales_qty</th>\n",
       "      <th>sales_amount</th>\n",
       "      <th>product_price</th>\n",
       "      <th>profit_percentage</th>\n",
       "      <th>original_price</th>\n",
       "      <th>profit</th>\n",
       "      <th>total_profit</th>\n",
       "      <th>total_cost</th>\n",
       "      <th>year</th>\n",
       "    </tr>\n",
       "  </thead>\n",
       "  <tbody>\n",
       "    <tr>\n",
       "      <th>sales_qty</th>\n",
       "      <td>1.00</td>\n",
       "      <td>0.34</td>\n",
       "      <td>-0.01</td>\n",
       "      <td>-0.05</td>\n",
       "      <td>-0.02</td>\n",
       "      <td>-0.01</td>\n",
       "      <td>0.24</td>\n",
       "      <td>0.36</td>\n",
       "      <td>0.00</td>\n",
       "    </tr>\n",
       "    <tr>\n",
       "      <th>sales_amount</th>\n",
       "      <td>0.34</td>\n",
       "      <td>1.00</td>\n",
       "      <td>0.30</td>\n",
       "      <td>0.25</td>\n",
       "      <td>0.30</td>\n",
       "      <td>0.31</td>\n",
       "      <td>0.98</td>\n",
       "      <td>1.00</td>\n",
       "      <td>-0.00</td>\n",
       "    </tr>\n",
       "    <tr>\n",
       "      <th>product_price</th>\n",
       "      <td>-0.01</td>\n",
       "      <td>0.30</td>\n",
       "      <td>1.00</td>\n",
       "      <td>0.88</td>\n",
       "      <td>1.00</td>\n",
       "      <td>0.99</td>\n",
       "      <td>0.32</td>\n",
       "      <td>0.30</td>\n",
       "      <td>0.01</td>\n",
       "    </tr>\n",
       "    <tr>\n",
       "      <th>profit_percentage</th>\n",
       "      <td>-0.05</td>\n",
       "      <td>0.25</td>\n",
       "      <td>0.88</td>\n",
       "      <td>1.00</td>\n",
       "      <td>0.88</td>\n",
       "      <td>0.84</td>\n",
       "      <td>0.27</td>\n",
       "      <td>0.25</td>\n",
       "      <td>0.01</td>\n",
       "    </tr>\n",
       "    <tr>\n",
       "      <th>original_price</th>\n",
       "      <td>-0.02</td>\n",
       "      <td>0.30</td>\n",
       "      <td>1.00</td>\n",
       "      <td>0.88</td>\n",
       "      <td>1.00</td>\n",
       "      <td>0.98</td>\n",
       "      <td>0.32</td>\n",
       "      <td>0.29</td>\n",
       "      <td>0.01</td>\n",
       "    </tr>\n",
       "    <tr>\n",
       "      <th>profit</th>\n",
       "      <td>-0.01</td>\n",
       "      <td>0.31</td>\n",
       "      <td>0.99</td>\n",
       "      <td>0.84</td>\n",
       "      <td>0.98</td>\n",
       "      <td>1.00</td>\n",
       "      <td>0.34</td>\n",
       "      <td>0.30</td>\n",
       "      <td>0.00</td>\n",
       "    </tr>\n",
       "    <tr>\n",
       "      <th>total_profit</th>\n",
       "      <td>0.24</td>\n",
       "      <td>0.98</td>\n",
       "      <td>0.32</td>\n",
       "      <td>0.27</td>\n",
       "      <td>0.32</td>\n",
       "      <td>0.34</td>\n",
       "      <td>1.00</td>\n",
       "      <td>0.97</td>\n",
       "      <td>-0.00</td>\n",
       "    </tr>\n",
       "    <tr>\n",
       "      <th>total_cost</th>\n",
       "      <td>0.36</td>\n",
       "      <td>1.00</td>\n",
       "      <td>0.30</td>\n",
       "      <td>0.25</td>\n",
       "      <td>0.29</td>\n",
       "      <td>0.30</td>\n",
       "      <td>0.97</td>\n",
       "      <td>1.00</td>\n",
       "      <td>-0.00</td>\n",
       "    </tr>\n",
       "    <tr>\n",
       "      <th>year</th>\n",
       "      <td>0.00</td>\n",
       "      <td>-0.00</td>\n",
       "      <td>0.01</td>\n",
       "      <td>0.01</td>\n",
       "      <td>0.01</td>\n",
       "      <td>0.00</td>\n",
       "      <td>-0.00</td>\n",
       "      <td>-0.00</td>\n",
       "      <td>1.00</td>\n",
       "    </tr>\n",
       "  </tbody>\n",
       "</table>\n",
       "</div>"
      ],
      "text/plain": [
       "                   sales_qty  sales_amount  product_price  profit_percentage  \\\n",
       "sales_qty               1.00          0.34          -0.01              -0.05   \n",
       "sales_amount            0.34          1.00           0.30               0.25   \n",
       "product_price          -0.01          0.30           1.00               0.88   \n",
       "profit_percentage      -0.05          0.25           0.88               1.00   \n",
       "original_price         -0.02          0.30           1.00               0.88   \n",
       "profit                 -0.01          0.31           0.99               0.84   \n",
       "total_profit            0.24          0.98           0.32               0.27   \n",
       "total_cost              0.36          1.00           0.30               0.25   \n",
       "year                    0.00         -0.00           0.01               0.01   \n",
       "\n",
       "                   original_price  profit  total_profit  total_cost  year  \n",
       "sales_qty                   -0.02   -0.01          0.24        0.36  0.00  \n",
       "sales_amount                 0.30    0.31          0.98        1.00 -0.00  \n",
       "product_price                1.00    0.99          0.32        0.30  0.01  \n",
       "profit_percentage            0.88    0.84          0.27        0.25  0.01  \n",
       "original_price               1.00    0.98          0.32        0.29  0.01  \n",
       "profit                       0.98    1.00          0.34        0.30  0.00  \n",
       "total_profit                 0.32    0.34          1.00        0.97 -0.00  \n",
       "total_cost                   0.29    0.30          0.97        1.00 -0.00  \n",
       "year                         0.01    0.00         -0.00       -0.00  1.00  "
      ]
     },
     "execution_count": 154,
     "metadata": {},
     "output_type": "execute_result"
    }
   ],
   "source": [
    "df.corr(numeric_only=True)"
   ]
  },
  {
   "cell_type": "code",
   "execution_count": 163,
   "id": "8bbb97b1-7627-4079-8a1a-482d435c4fd2",
   "metadata": {},
   "outputs": [
    {
     "data": {
      "image/png": "[encoded data removed]",
      "text/plain": [
       "<Figure size 1000x600 with 2 Axes>"
      ]
     },
     "metadata": {},
     "output_type": "display_data"
    }
   ],
   "source": [
    "import matplotlib.pyplot as plt\n",
    "import seaborn as sns\n",
    "\n",
    "# Set figure size (width=10, height=6 in inches)\n",
    "plt.figure(figsize=(10, 6))\n",
    "\n",
    "# Create heatmap\n",
    "sns.heatmap(df.corr(numeric_only=True), annot=True, cmap=\"coolwarm\", fmt=\".2f\")\n",
    "\n",
    "# Rotate x-axis labels\n",
    "plt.xticks(rotation=45, ha=\"right\")\n",
    "\n",
    "# Rotate y-axis labels\n",
    "plt.yticks(rotation=0)\n",
    "\n",
    "# Show the plot\n",
    "plt.show()"
   ]
  },
  {
   "cell_type": "code",
   "execution_count": null,
   "id": "8daa945e-6d18-4cac-ae8b-dc792e3e4a4b",
   "metadata": {},
   "outputs": [],
   "source": []
  }
 ],
 "metadata": {
  "kernelspec": {
   "display_name": "Python 3 (ipykernel)",
   "language": "python",
   "name": "python3"
  },
  "language_info": {
   "codemirror_mode": {
    "name": "ipython",
    "version": 3
   },
   "file_extension": ".py",
   "mimetype": "text/x-python",
   "name": "python",
   "nbconvert_exporter": "python",
   "pygments_lexer": "ipython3",
   "version": "3.13.1"
  }
 },
 "nbformat": 4,
 "nbformat_minor": 5
}
